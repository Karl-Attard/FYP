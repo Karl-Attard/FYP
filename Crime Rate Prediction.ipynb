{
 "cells": [
  {
   "cell_type": "markdown",
   "metadata": {},
   "source": [
    "# Crime Rate Prediction"
   ]
  },
  {
   "cell_type": "code",
   "execution_count": 15,
   "metadata": {},
   "outputs": [],
   "source": [
    "import pandas as pd\n",
    "import numpy as np\n",
    "import matplotlib.pyplot as plt\n",
    "from collections import Counter\n",
    "from sklearn.linear_model import LinearRegression\n",
    "from sklearn.tree import DecisionTreeRegressor\n",
    "from sklearn.ensemble import RandomForestRegressor\n",
    "from sklearn.ensemble import GradientBoostingRegressor\n",
    "from sklearn.neural_network import MLPRegressor\n",
    "from sklearn.preprocessing import StandardScaler\n",
    "from sklearn.linear_model import SGDRegressor\n",
    "from sklearn.pipeline import make_pipeline\n",
    "from sklearn.model_selection import GridSearchCV\n",
    "import sklearn.metrics as metrics"
   ]
  },
  {
   "cell_type": "markdown",
   "metadata": {},
   "source": [
    "## Reading Whole Dataset & Preprocessing"
   ]
  },
  {
   "cell_type": "code",
   "execution_count": 21,
   "metadata": {},
   "outputs": [
    {
     "name": "stderr",
     "output_type": "stream",
     "text": [
      "/opt/anaconda3/envs/thesis/lib/python3.8/site-packages/IPython/core/interactiveshell.py:3098: DtypeWarning: Columns (18,20) have mixed types.Specify dtype option on import or set low_memory=False.\n",
      "  has_raised = await self.run_ast_nodes(code_ast.body, cell_name,\n"
     ]
    },
    {
     "data": {
      "text/html": [
       "<div>\n",
       "<style scoped>\n",
       "    .dataframe tbody tr th:only-of-type {\n",
       "        vertical-align: middle;\n",
       "    }\n",
       "\n",
       "    .dataframe tbody tr th {\n",
       "        vertical-align: top;\n",
       "    }\n",
       "\n",
       "    .dataframe thead th {\n",
       "        text-align: right;\n",
       "    }\n",
       "</style>\n",
       "<table border=\"1\" class=\"dataframe\">\n",
       "  <thead>\n",
       "    <tr style=\"text-align: right;\">\n",
       "      <th></th>\n",
       "      <th>Year</th>\n",
       "      <th>Population</th>\n",
       "      <th>Median Incomes</th>\n",
       "      <th>Unemployment Rate</th>\n",
       "      <th>Enrollments</th>\n",
       "    </tr>\n",
       "  </thead>\n",
       "  <tbody>\n",
       "    <tr>\n",
       "      <th>0</th>\n",
       "      <td>2006</td>\n",
       "      <td>1611581</td>\n",
       "      <td>76288</td>\n",
       "      <td>0.06751</td>\n",
       "      <td>165867</td>\n",
       "    </tr>\n",
       "    <tr>\n",
       "      <th>1</th>\n",
       "      <td>2006</td>\n",
       "      <td>1611581</td>\n",
       "      <td>76288</td>\n",
       "      <td>0.06751</td>\n",
       "      <td>165867</td>\n",
       "    </tr>\n",
       "    <tr>\n",
       "      <th>2</th>\n",
       "      <td>2014</td>\n",
       "      <td>1636268</td>\n",
       "      <td>82250</td>\n",
       "      <td>0.06600</td>\n",
       "      <td>154085</td>\n",
       "    </tr>\n",
       "    <tr>\n",
       "      <th>3</th>\n",
       "      <td>2013</td>\n",
       "      <td>1626159</td>\n",
       "      <td>79356</td>\n",
       "      <td>0.07493</td>\n",
       "      <td>155659</td>\n",
       "    </tr>\n",
       "    <tr>\n",
       "      <th>4</th>\n",
       "      <td>2011</td>\n",
       "      <td>1601948</td>\n",
       "      <td>75527</td>\n",
       "      <td>0.08969</td>\n",
       "      <td>157770</td>\n",
       "    </tr>\n",
       "    <tr>\n",
       "      <th>...</th>\n",
       "      <td>...</td>\n",
       "      <td>...</td>\n",
       "      <td>...</td>\n",
       "      <td>...</td>\n",
       "      <td>...</td>\n",
       "    </tr>\n",
       "    <tr>\n",
       "      <th>1328129</th>\n",
       "      <td>2010</td>\n",
       "      <td>1586698</td>\n",
       "      <td>75009</td>\n",
       "      <td>0.09173</td>\n",
       "      <td>158431</td>\n",
       "    </tr>\n",
       "    <tr>\n",
       "      <th>1328130</th>\n",
       "      <td>2015</td>\n",
       "      <td>1644518</td>\n",
       "      <td>81553</td>\n",
       "      <td>0.06100</td>\n",
       "      <td>175366</td>\n",
       "    </tr>\n",
       "    <tr>\n",
       "      <th>1328131</th>\n",
       "      <td>2010</td>\n",
       "      <td>1586698</td>\n",
       "      <td>75009</td>\n",
       "      <td>0.09173</td>\n",
       "      <td>158431</td>\n",
       "    </tr>\n",
       "    <tr>\n",
       "      <th>1328132</th>\n",
       "      <td>2016</td>\n",
       "      <td>1643734</td>\n",
       "      <td>82629</td>\n",
       "      <td>0.05500</td>\n",
       "      <td>177179</td>\n",
       "    </tr>\n",
       "    <tr>\n",
       "      <th>1328133</th>\n",
       "      <td>2015</td>\n",
       "      <td>1644518</td>\n",
       "      <td>81553</td>\n",
       "      <td>0.06100</td>\n",
       "      <td>175366</td>\n",
       "    </tr>\n",
       "  </tbody>\n",
       "</table>\n",
       "<p>1328134 rows × 5 columns</p>\n",
       "</div>"
      ],
      "text/plain": [
       "         Year  Population  Median Incomes  Unemployment Rate  Enrollments\n",
       "0        2006     1611581           76288            0.06751       165867\n",
       "1        2006     1611581           76288            0.06751       165867\n",
       "2        2014     1636268           82250            0.06600       154085\n",
       "3        2013     1626159           79356            0.07493       155659\n",
       "4        2011     1601948           75527            0.08969       157770\n",
       "...       ...         ...             ...                ...          ...\n",
       "1328129  2010     1586698           75009            0.09173       158431\n",
       "1328130  2015     1644518           81553            0.06100       175366\n",
       "1328131  2010     1586698           75009            0.09173       158431\n",
       "1328132  2016     1643734           82629            0.05500       177179\n",
       "1328133  2015     1644518           81553            0.06100       175366\n",
       "\n",
       "[1328134 rows x 5 columns]"
      ]
     },
     "execution_count": 21,
     "metadata": {},
     "output_type": "execute_result"
    }
   ],
   "source": [
    "crime_df_ = pd.read_csv('NYPD_Complaint_Data_Historic.csv')\n",
    "for x in ['CMPLNT_FR_DT', 'BORO_NM']:\n",
    "    crime_df_ = crime_df_[crime_df_[x].notna()]\n",
    "    \n",
    "crime_df_['Year'] = crime_df_['CMPLNT_FR_DT'].str.split('/').str[2].astype('int64')\n",
    "crime_df_ = crime_df_[crime_df_['Year'] >= 2006]\n",
    "crime_df_ = crime_df_[crime_df_['Year'] <= 2016]\n",
    "\n",
    "crime_population_df = pd.read_csv('Total Population.csv')\n",
    "crime_income_df = pd.read_csv('Median Incomes.csv')\n",
    "crime_unemployment_df = pd.read_csv('Unemployment Rate.csv')\n",
    "crime_enrollment_df = pd.read_csv('Enrollment.csv')\n",
    "\n",
    "\n",
    "# Merging crime dataset to our dataset on date (YY-MM-DD)\n",
    "crime_df_ = pd.merge(crime_df_, crime_population_df, on=['Year', 'BORO_NM'], how = 'left')\n",
    "crime_df_ = pd.merge(crime_df_, crime_income_df, on=['Year', 'BORO_NM'], how = 'left')\n",
    "crime_df_ = pd.merge(crime_df_, crime_unemployment_df, on=['Year', 'BORO_NM'], how = 'left')\n",
    "crime_df_ = pd.merge(crime_df_, crime_enrollment_df, on=['Year', 'BORO_NM'], how = 'left')\n",
    "\n",
    "crime_df_ = crime_df_.drop(\n",
    "['SUSP_AGE_GROUP', 'SUSP_RACE', 'SUSP_SEX', 'Latitude', 'Longitude', 'PATROL_BORO', 'VIC_AGE_GROUP', 'VIC_RACE', 'VIC_SEX', 'CMPLNT_NUM', 'CMPLNT_TO_DT',\n",
    "'CMPLNT_TO_TM', 'ADDR_PCT_CD', 'RPT_DT', 'KY_CD', 'PD_CD', 'JURISDICTION_CODE', 'PARKS_NM', 'HADEVELOPT',\t'X_COORD_CD', 'Y_COORD_CD',\n",
    "'TRANSIT_DISTRICT',\t'Lat_Lon', 'STATION_NAME', 'CMPLNT_FR_DT', 'CMPLNT_FR_TM', 'OFNS_DESC', 'PD_DESC', 'CRM_ATPT_CPTD_CD', 'LAW_CAT_CD',\n",
    "'LOC_OF_OCCUR_DESC', 'PREM_TYP_DESC', 'JURIS_DESC', 'HOUSING_PSA']\n",
    ", axis=1)\n",
    "crime_df_ = crime_df_.reset_index(drop=True)\n",
    "\n",
    "crime_df_ = crime_df_[crime_df_['BORO_NM']=='MANHATTAN']\n",
    "crime_df_ = crime_df_.drop(['BORO_NM'], axis=1)\n",
    "crime_df_ = crime_df_.reset_index(drop=True)\n",
    "crime_df_"
   ]
  },
  {
   "cell_type": "code",
   "execution_count": 22,
   "metadata": {},
   "outputs": [],
   "source": [
    "crime_df_prediction = crime_df_.copy()"
   ]
  },
  {
   "cell_type": "code",
   "execution_count": 25,
   "metadata": {},
   "outputs": [],
   "source": [
    "def generateLineGraphYearly(df,columnName):\n",
    "    crimeMonthFreq = dict(Counter(df[columnName]))\n",
    "    crimeMonthFreqSorted = crimeMonthFreq.items()\n",
    "\n",
    "    crimeMonthFreqSorted = dict(sorted(crimeMonthFreqSorted))\n",
    "\n",
    "\n",
    "    data = {'Month': list(crimeMonthFreqSorted.keys()),\n",
    "        'Crime_Frequency': list(crimeMonthFreqSorted.values())}\n",
    "\n",
    "    temp_df = pd.DataFrame(data,columns=['Month','Crime_Frequency'])\n",
    "\n",
    "    plt.figure(figsize = (10, 5))\n",
    "    plt.plot(temp_df['Month'], temp_df['Crime_Frequency'], color='red', marker='o')\n",
    "    plt.title('Trends in Crime Frequency Yearly', fontsize=14)\n",
    "    plt.xlabel('Year', fontsize=14)\n",
    "    plt.xticks(rotation=90)\n",
    "    plt.ylabel('Crime Frequency', fontsize=14)\n",
    "    plt.grid(True)\n",
    "    plt.show()"
   ]
  },
  {
   "cell_type": "code",
   "execution_count": 26,
   "metadata": {},
   "outputs": [
    {
     "data": {
      "image/png": "[encoded data removed]",
      "text/plain": [
       "<Figure size 720x360 with 1 Axes>"
      ]
     },
     "metadata": {
      "needs_background": "light"
     },
     "output_type": "display_data"
    }
   ],
   "source": [
    "generateLineGraphYearly(crime_df_,'Year')"
   ]
  },
  {
   "cell_type": "markdown",
   "metadata": {},
   "source": [
    "## Reading Whole Preprocessed NYC Dataset"
   ]
  },
  {
   "cell_type": "code",
   "execution_count": 2,
   "metadata": {},
   "outputs": [],
   "source": [
    "dataset_name = 'NYPD Dataset 2006-2019.csv'\n",
    "crime_df_ = pd.read_csv(dataset_name)\n",
    "\n",
    "crime_df = crime_df_.copy()"
   ]
  },
  {
   "cell_type": "markdown",
   "metadata": {},
   "source": [
    "### Preparing DataFrame"
   ]
  },
  {
   "cell_type": "code",
   "execution_count": null,
   "metadata": {},
   "outputs": [],
   "source": [
    "crime_df_prediction = crime_df.copy()"
   ]
  },
  {
   "cell_type": "code",
   "execution_count": null,
   "metadata": {},
   "outputs": [],
   "source": [
    "# Filtering only on Manhattan borough\n",
    "crime_df_prediction = crime_df_prediction[crime_df_prediction['BORO_NM']=='MANHATTAN']\n",
    "crime_df_prediction = crime_df_prediction.reset_index(drop=True)\n",
    "\n",
    "\n",
    "# Filtering only years 2006-2016\n",
    "crime_df_prediction = crime_df_prediction[crime_df_prediction['Year'] >= 2006]\n",
    "crime_df_prediction = crime_df_prediction[crime_df_prediction['Year'] <= 2013]\n",
    "crime_df_prediction = crime_df_prediction.reset_index(drop=True)"
   ]
  },
  {
   "cell_type": "code",
   "execution_count": null,
   "metadata": {},
   "outputs": [],
   "source": [
    "# Removing unneeded columns\n",
    "\n",
    "crime_df_prediction = crime_df_prediction.drop(\n",
    "['Day Number', 'Month Number', 'Day No', 'Month Name', 'Day Name', 'Year_Month', 'Hour Group', 'Day Group', 'SEASON','SUSP_AGE_GROUP', \n",
    "'SUSP_RACE', 'SUSP_SEX', 'Latitude', 'Longitude', 'PATROL_BORO', 'VIC_AGE_GROUP', 'VIC_RACE', 'VIC_SEX', 'ISHOLIDAY', 'Weather Description', \n",
    "'CMPLNT_FR_DT', 'CMPLNT_FR_TM', 'OFNS_DESC', 'PD_DESC', 'CRM_ATPT_CPTD_CD', 'LAW_CAT_CD', 'BORO_NM', 'LOC_OF_OCCUR_DESC', 'PREM_TYP_DESC', 'JURIS_DESC']\n",
    ", axis=1)\n",
    "\n",
    "crime_df_prediction"
   ]
  },
  {
   "cell_type": "code",
   "execution_count": 4,
   "metadata": {},
   "outputs": [],
   "source": [
    "def splitTrainTest(df,column,value1,value2):\n",
    "    # Choosing what to predict\n",
    "    df = dict(Counter(df[column]))\n",
    "    df = sorted(df.items(), key=lambda x: x[0]) #sorting in ascending by key\n",
    "    df = dict((x, y) for x, y in df)\n",
    "\n",
    "    df = pd.DataFrame(df.items(), columns=[column,'Crimes'])\n",
    "    print(df)\n",
    "    \n",
    "    train = df[df[column] <= value1].to_numpy()\n",
    "    test = df[df[column] >= value2].to_numpy()\n",
    "\n",
    "    return train,test"
   ]
  },
  {
   "cell_type": "code",
   "execution_count": 5,
   "metadata": {},
   "outputs": [],
   "source": [
    "def plotDatasetSplit(train_df, test_df, label):\n",
    "    column_size = train_df.shape[1]\n",
    "\n",
    "    train_x = train_df[:,column_size-2]\n",
    "    train_y = train_df[:,column_size-1]\n",
    "    test_x = test_df[:,column_size-2]\n",
    "    test_y = test_df[:,column_size-1]\n",
    "\n",
    "    plt.plot(train_x, train_y, color = \"black\")\n",
    "    plt.plot(test_x, test_y, color = \"red\")\n",
    "    plt.ylabel('Crime Frequency')\n",
    "    plt.xlabel(label)\n",
    "    plt.title(\"Train/Test split for Crime Data by \"+label)\n",
    "    plt.show()\n",
    "    \n",
    "    train_x = train_x.reshape(-1, 1)\n",
    "    train_y = train_y.reshape(-1, 1)\n",
    "    test_x = test_x.reshape(-1, 1)\n",
    "    test_y = test_y.reshape(-1, 1)\n",
    "\n",
    "    return train_x,train_y,test_x,test_y"
   ]
  },
  {
   "cell_type": "code",
   "execution_count": 6,
   "metadata": {},
   "outputs": [
    {
     "data": {
      "text/html": [
       "<div>\n",
       "<style scoped>\n",
       "    .dataframe tbody tr th:only-of-type {\n",
       "        vertical-align: middle;\n",
       "    }\n",
       "\n",
       "    .dataframe tbody tr th {\n",
       "        vertical-align: top;\n",
       "    }\n",
       "\n",
       "    .dataframe thead th {\n",
       "        text-align: right;\n",
       "    }\n",
       "</style>\n",
       "<table border=\"1\" class=\"dataframe\">\n",
       "  <thead>\n",
       "    <tr style=\"text-align: right;\">\n",
       "      <th></th>\n",
       "      <th>Year</th>\n",
       "      <th>Population</th>\n",
       "      <th>Median Incomes</th>\n",
       "      <th>Unemployment Rate</th>\n",
       "      <th>Enrollments</th>\n",
       "    </tr>\n",
       "  </thead>\n",
       "  <tbody>\n",
       "    <tr>\n",
       "      <th>0</th>\n",
       "      <td>2014</td>\n",
       "      <td>1636268</td>\n",
       "      <td>82250</td>\n",
       "      <td>0.06600</td>\n",
       "      <td>154085</td>\n",
       "    </tr>\n",
       "    <tr>\n",
       "      <th>1</th>\n",
       "      <td>2013</td>\n",
       "      <td>1626159</td>\n",
       "      <td>79356</td>\n",
       "      <td>0.07493</td>\n",
       "      <td>155659</td>\n",
       "    </tr>\n",
       "    <tr>\n",
       "      <th>2</th>\n",
       "      <td>2011</td>\n",
       "      <td>1601948</td>\n",
       "      <td>75527</td>\n",
       "      <td>0.08969</td>\n",
       "      <td>157770</td>\n",
       "    </tr>\n",
       "    <tr>\n",
       "      <th>3</th>\n",
       "      <td>2016</td>\n",
       "      <td>1643734</td>\n",
       "      <td>82629</td>\n",
       "      <td>0.05500</td>\n",
       "      <td>177179</td>\n",
       "    </tr>\n",
       "    <tr>\n",
       "      <th>4</th>\n",
       "      <td>2013</td>\n",
       "      <td>1626159</td>\n",
       "      <td>79356</td>\n",
       "      <td>0.07493</td>\n",
       "      <td>155659</td>\n",
       "    </tr>\n",
       "    <tr>\n",
       "      <th>...</th>\n",
       "      <td>...</td>\n",
       "      <td>...</td>\n",
       "      <td>...</td>\n",
       "      <td>...</td>\n",
       "      <td>...</td>\n",
       "    </tr>\n",
       "    <tr>\n",
       "      <th>817848</th>\n",
       "      <td>2010</td>\n",
       "      <td>1586698</td>\n",
       "      <td>75009</td>\n",
       "      <td>0.09173</td>\n",
       "      <td>158431</td>\n",
       "    </tr>\n",
       "    <tr>\n",
       "      <th>817849</th>\n",
       "      <td>2015</td>\n",
       "      <td>1644518</td>\n",
       "      <td>81553</td>\n",
       "      <td>0.06100</td>\n",
       "      <td>175366</td>\n",
       "    </tr>\n",
       "    <tr>\n",
       "      <th>817850</th>\n",
       "      <td>2010</td>\n",
       "      <td>1586698</td>\n",
       "      <td>75009</td>\n",
       "      <td>0.09173</td>\n",
       "      <td>158431</td>\n",
       "    </tr>\n",
       "    <tr>\n",
       "      <th>817851</th>\n",
       "      <td>2016</td>\n",
       "      <td>1643734</td>\n",
       "      <td>82629</td>\n",
       "      <td>0.05500</td>\n",
       "      <td>177179</td>\n",
       "    </tr>\n",
       "    <tr>\n",
       "      <th>817852</th>\n",
       "      <td>2015</td>\n",
       "      <td>1644518</td>\n",
       "      <td>81553</td>\n",
       "      <td>0.06100</td>\n",
       "      <td>175366</td>\n",
       "    </tr>\n",
       "  </tbody>\n",
       "</table>\n",
       "<p>817853 rows × 5 columns</p>\n",
       "</div>"
      ],
      "text/plain": [
       "        Year  Population  Median Incomes  Unemployment Rate  Enrollments\n",
       "0       2014     1636268           82250            0.06600       154085\n",
       "1       2013     1626159           79356            0.07493       155659\n",
       "2       2011     1601948           75527            0.08969       157770\n",
       "3       2016     1643734           82629            0.05500       177179\n",
       "4       2013     1626159           79356            0.07493       155659\n",
       "...      ...         ...             ...                ...          ...\n",
       "817848  2010     1586698           75009            0.09173       158431\n",
       "817849  2015     1644518           81553            0.06100       175366\n",
       "817850  2010     1586698           75009            0.09173       158431\n",
       "817851  2016     1643734           82629            0.05500       177179\n",
       "817852  2015     1644518           81553            0.06100       175366\n",
       "\n",
       "[817853 rows x 5 columns]"
      ]
     },
     "execution_count": 6,
     "metadata": {},
     "output_type": "execute_result"
    }
   ],
   "source": [
    "crime_df_prediction"
   ]
  },
  {
   "cell_type": "code",
   "execution_count": 7,
   "metadata": {},
   "outputs": [
    {
     "name": "stdout",
     "output_type": "stream",
     "text": [
      "   Year  Crimes\n",
      "0  2010  121364\n",
      "1  2011  115889\n",
      "2  2012  120076\n",
      "3  2013  118083\n",
      "4  2014  113590\n",
      "5  2015  113218\n",
      "6  2016  115633\n"
     ]
    },
    {
     "data": {
      "image/png": "[encoded data removed]",
      "text/plain": [
       "<Figure size 432x288 with 1 Axes>"
      ]
     },
     "metadata": {
      "needs_background": "light"
     },
     "output_type": "display_data"
    }
   ],
   "source": [
    "train_year, test_year = splitTrainTest(crime_df_prediction,'Year',2013,2014)\n",
    "train_x_year, train_y_year, test_x_year, test_y_year = plotDatasetSplit(train_year, test_year, 'Year')\n"
   ]
  },
  {
   "cell_type": "code",
   "execution_count": 8,
   "metadata": {},
   "outputs": [],
   "source": [
    "def splitTestSet(test_x_set, test_y_set, num1, num2):\n",
    "    return test_x_set[num1:num2], test_y_set[num1:num2]"
   ]
  },
  {
   "cell_type": "code",
   "execution_count": 9,
   "metadata": {},
   "outputs": [],
   "source": [
    "test_x_year_2014, test_y_year_2014 = splitTestSet(test_x_year, test_y_year, 0, 1)\n",
    "test_x_year_2015, test_y_year_2015 = splitTestSet(test_x_year, test_y_year, 1, 2)\n",
    "test_x_year_2016, test_y_year_2016 = splitTestSet(test_x_year, test_y_year, 2, 3)"
   ]
  },
  {
   "cell_type": "markdown",
   "metadata": {},
   "source": [
    "## Building Models that Predict Future Crime Rate & Outputting Errors"
   ]
  },
  {
   "cell_type": "markdown",
   "metadata": {},
   "source": [
    "### No Additional Data"
   ]
  },
  {
   "cell_type": "code",
   "execution_count": 10,
   "metadata": {},
   "outputs": [],
   "source": [
    "def mean_absolute_percentage_error(y_true, y_pred): \n",
    "    return np.mean(np.abs((y_true - y_pred) / y_true)) * 100"
   ]
  },
  {
   "cell_type": "markdown",
   "metadata": {},
   "source": [
    "#### Linear Regression"
   ]
  },
  {
   "cell_type": "code",
   "execution_count": 13,
   "metadata": {},
   "outputs": [],
   "source": [
    "def linearRegression(train_x, train_y, test_x, test_y):\n",
    "    \"\"\" Building Linear Regression  \"\"\"\n",
    "\n",
    "    regressor = LinearRegression()\n",
    "    regressor.fit(train_x, train_y) # Training model\n",
    "    y_pred_regressor = regressor.predict(test_x) # Predicting future data\n",
    "\n",
    "\n",
    "    # Evaluating Model using 4 different errors :- MAE,MAPE,MSE,RMSE\n",
    "    print('\\nMean Absolute Error:', metrics.mean_absolute_error(test_y, y_pred_regressor))\n",
    "    print('Mean Absolute % Error:', mean_absolute_percentage_error(test_y, y_pred_regressor))\n",
    "    print('Mean Squared Error:', metrics.mean_squared_error(test_y, y_pred_regressor))\n",
    "    print('Root Mean Squared Error:', np.sqrt(metrics.mean_squared_error(test_y, y_pred_regressor)))"
   ]
  },
  {
   "cell_type": "code",
   "execution_count": 12,
   "metadata": {},
   "outputs": [
    {
     "name": "stdout",
     "output_type": "stream",
     "text": [
      "\n",
      "Mean Absolute Error: 1269.357142857276\n",
      "Mean Absolute % Error: 1.1174902217248666\n",
      "Mean Squared Error: 1611267.5561227868\n",
      "Root Mean Squared Error: 1269.357142857276\n",
      "\n",
      "Mean Absolute Error: 214.7023809524253\n",
      "Mean Absolute % Error: 0.18963626009329373\n",
      "Mean Squared Error: 46097.11238664036\n",
      "Root Mean Squared Error: 214.7023809524253\n",
      "\n",
      "Mean Absolute Error: 4485.761904761661\n",
      "Mean Absolute % Error: 3.8793094573016877\n",
      "Mean Squared Error: 20122059.866210964\n",
      "Root Mean Squared Error: 4485.761904761661\n"
     ]
    }
   ],
   "source": [
    "linearRegression(train_x_year, train_y_year, test_x_year_2014, test_y_year_2014)\n",
    "linearRegression(train_x_year, train_y_year, test_x_year_2015, test_y_year_2015)\n",
    "linearRegression(train_x_year, train_y_year, test_x_year_2016, test_y_year_2016)"
   ]
  },
  {
   "cell_type": "markdown",
   "metadata": {},
   "source": [
    "#### Decision Tree Regressor"
   ]
  },
  {
   "cell_type": "code",
   "execution_count": 13,
   "metadata": {},
   "outputs": [],
   "source": [
    "def decisionTreeRegressor(train_x, train_y, test_x, test_y):\n",
    "    \"\"\" Building Decision Tree Regressor \"\"\"\n",
    "    dtr = DecisionTreeRegressor(random_state=0)\n",
    "    dtr.fit(train_x, train_y) # Training model\n",
    "    y_pred_dtr = dtr.predict(test_x) # Predicting future data\n",
    "\n",
    "    # Evaluating Model using 4 different errors :- MAE,MAPE,MSE,RMSE\n",
    "    print('\\nMean Absolute Error:', metrics.mean_absolute_error(test_y, y_pred_dtr))\n",
    "    print('Mean Absolute % Error:', mean_absolute_percentage_error(test_y, y_pred_dtr))\n",
    "    print('Mean Squared Error:', metrics.mean_squared_error(test_y, y_pred_dtr))\n",
    "    print('Root Mean Squared Error:', np.sqrt(metrics.mean_squared_error(test_y, y_pred_dtr)))"
   ]
  },
  {
   "cell_type": "code",
   "execution_count": 14,
   "metadata": {},
   "outputs": [
    {
     "name": "stdout",
     "output_type": "stream",
     "text": [
      "\n",
      "Mean Absolute Error: 4493.0\n",
      "Mean Absolute % Error: 3.9554538251606655\n",
      "Mean Squared Error: 20187049.0\n",
      "Root Mean Squared Error: 4493.0\n",
      "\n",
      "Mean Absolute Error: 4865.0\n",
      "Mean Absolute % Error: 4.297019908495116\n",
      "Mean Squared Error: 23668225.0\n",
      "Root Mean Squared Error: 4865.0\n",
      "\n",
      "Mean Absolute Error: 2450.0\n",
      "Mean Absolute % Error: 2.1187723227798294\n",
      "Mean Squared Error: 6002500.0\n",
      "Root Mean Squared Error: 2450.0\n"
     ]
    }
   ],
   "source": [
    "decisionTreeRegressor(train_x_year, train_y_year, test_x_year_2014, test_y_year_2014)\n",
    "decisionTreeRegressor(train_x_year, train_y_year, test_x_year_2015, test_y_year_2015)\n",
    "decisionTreeRegressor(train_x_year, train_y_year, test_x_year_2016, test_y_year_2016)"
   ]
  },
  {
   "cell_type": "markdown",
   "metadata": {},
   "source": [
    "#### Random Forest Regressor"
   ]
  },
  {
   "cell_type": "code",
   "execution_count": 15,
   "metadata": {},
   "outputs": [],
   "source": [
    "def randomForestRegressor(train_x, train_y, test_x, test_y):\n",
    "    \"\"\" Building a Random Forest Regressor \"\"\"\n",
    "\n",
    "    rfr = RandomForestRegressor(random_state=0, n_estimators=150)\n",
    "    rfr.fit(train_x, train_y) # Training model\n",
    "    y_pred_rfr = rfr.predict(test_x) # Predicting future data\n",
    "\n",
    "    # Evaluating Model using 4 different errors :- MAE,MAPE,MSE,RMSE\n",
    "    print('\\nMean Absolute Error:', metrics.mean_absolute_error(test_y, y_pred_rfr))\n",
    "    print('Mean Absolute % Error:', mean_absolute_percentage_error(test_y, y_pred_rfr))\n",
    "    print('Mean Squared Error:', metrics.mean_squared_error(test_y, y_pred_rfr))\n",
    "    print('Root Mean Squared Error:', np.sqrt(metrics.mean_squared_error(test_y, y_pred_rfr)))"
   ]
  },
  {
   "cell_type": "code",
   "execution_count": 16,
   "metadata": {},
   "outputs": [
    {
     "name": "stderr",
     "output_type": "stream",
     "text": [
      "/var/folders/_m/g1hjkw4d3xx82r_yx60lb8kh0000gn/T/ipykernel_85414/3192713231.py:5: DataConversionWarning: A column-vector y was passed when a 1d array was expected. Please change the shape of y to (n_samples,), for example using ravel().\n",
      "  rfr.fit(train_x, train_y) # Training model\n",
      "/var/folders/_m/g1hjkw4d3xx82r_yx60lb8kh0000gn/T/ipykernel_85414/3192713231.py:5: DataConversionWarning: A column-vector y was passed when a 1d array was expected. Please change the shape of y to (n_samples,), for example using ravel().\n",
      "  rfr.fit(train_x, train_y) # Training model\n"
     ]
    },
    {
     "name": "stdout",
     "output_type": "stream",
     "text": [
      "\n",
      "Mean Absolute Error: 4870.139999999999\n",
      "Mean Absolute % Error: 4.28747248877542\n",
      "Mean Squared Error: 23718263.619599994\n",
      "Root Mean Squared Error: 4870.139999999999\n",
      "\n",
      "Mean Absolute Error: 5242.139999999999\n",
      "Mean Absolute % Error: 4.630129484710912\n",
      "Mean Squared Error: 27480031.779599994\n",
      "Root Mean Squared Error: 5242.139999999999\n",
      "\n",
      "Mean Absolute Error: 2827.1399999999994\n",
      "Mean Absolute % Error: 2.4449248916831694\n",
      "Mean Squared Error: 7992720.579599997\n",
      "Root Mean Squared Error: 2827.1399999999994\n"
     ]
    },
    {
     "name": "stderr",
     "output_type": "stream",
     "text": [
      "/var/folders/_m/g1hjkw4d3xx82r_yx60lb8kh0000gn/T/ipykernel_85414/3192713231.py:5: DataConversionWarning: A column-vector y was passed when a 1d array was expected. Please change the shape of y to (n_samples,), for example using ravel().\n",
      "  rfr.fit(train_x, train_y) # Training model\n"
     ]
    }
   ],
   "source": [
    "randomForestRegressor(train_x_year, train_y_year, test_x_year_2014, test_y_year_2014)\n",
    "randomForestRegressor(train_x_year, train_y_year, test_x_year_2015, test_y_year_2015)\n",
    "randomForestRegressor(train_x_year, train_y_year, test_x_year_2016, test_y_year_2016)"
   ]
  },
  {
   "cell_type": "markdown",
   "metadata": {},
   "source": [
    "#### Gradient Boosting Regressor"
   ]
  },
  {
   "cell_type": "code",
   "execution_count": 17,
   "metadata": {},
   "outputs": [],
   "source": [
    "def gradientBoostingRegressor(train_x, train_y, test_x, test_y):\n",
    "    gbr = GradientBoostingRegressor(random_state=0)\n",
    "    gbr.fit(train_x, train_y)\n",
    "\n",
    "    y_pred_gbr = gbr.predict(test_x)\n",
    "\n",
    "    # Evaluating Model using 4 different errors :- MAE,MAPE,MSE,RMSE\n",
    "    print('\\nMean Absolute Error:', metrics.mean_absolute_error(test_y, y_pred_gbr))\n",
    "    print('Mean Absolute % Error:', mean_absolute_percentage_error(test_y, y_pred_gbr))\n",
    "    print('Mean Squared Error:', metrics.mean_squared_error(test_y, y_pred_gbr))\n",
    "    print('Root Mean Squared Error:', np.sqrt(metrics.mean_squared_error(test_y, y_pred_gbr)))"
   ]
  },
  {
   "cell_type": "code",
   "execution_count": 18,
   "metadata": {},
   "outputs": [
    {
     "name": "stdout",
     "output_type": "stream",
     "text": [
      "\n",
      "Mean Absolute Error: 4493.268465493558\n",
      "Mean Absolute % Error: 3.955690171224191\n",
      "Mean Squared Error: 20189461.502998836\n",
      "Root Mean Squared Error: 4493.268465493558\n",
      "\n",
      "Mean Absolute Error: 4865.268465493558\n",
      "Mean Absolute % Error: 4.297257031120103\n",
      "Mean Squared Error: 23670837.241326045\n",
      "Root Mean Squared Error: 4865.268465493558\n",
      "\n",
      "Mean Absolute Error: 2450.2684654935583\n",
      "Mean Absolute % Error: 2.119004493088961\n",
      "Mean Squared Error: 6003815.552992157\n",
      "Root Mean Squared Error: 2450.2684654935583\n"
     ]
    },
    {
     "name": "stderr",
     "output_type": "stream",
     "text": [
      "/opt/anaconda3/envs/thesis/lib/python3.8/site-packages/sklearn/utils/validation.py:72: DataConversionWarning: A column-vector y was passed when a 1d array was expected. Please change the shape of y to (n_samples, ), for example using ravel().\n",
      "  return f(**kwargs)\n",
      "/opt/anaconda3/envs/thesis/lib/python3.8/site-packages/sklearn/utils/validation.py:72: DataConversionWarning: A column-vector y was passed when a 1d array was expected. Please change the shape of y to (n_samples, ), for example using ravel().\n",
      "  return f(**kwargs)\n",
      "/opt/anaconda3/envs/thesis/lib/python3.8/site-packages/sklearn/utils/validation.py:72: DataConversionWarning: A column-vector y was passed when a 1d array was expected. Please change the shape of y to (n_samples, ), for example using ravel().\n",
      "  return f(**kwargs)\n"
     ]
    }
   ],
   "source": [
    "gradientBoostingRegressor(train_x_year, train_y_year, test_x_year_2014, test_y_year_2014)\n",
    "gradientBoostingRegressor(train_x_year, train_y_year, test_x_year_2015, test_y_year_2015)\n",
    "gradientBoostingRegressor(train_x_year, train_y_year, test_x_year_2016, test_y_year_2016)"
   ]
  },
  {
   "cell_type": "markdown",
   "metadata": {},
   "source": [
    "#### Multi Layer Perceptron Regressor"
   ]
  },
  {
   "cell_type": "code",
   "execution_count": 17,
   "metadata": {},
   "outputs": [],
   "source": [
    "def mlp_regressor(train_x, train_y, test_x, test_y, hidden_layer, activation):\n",
    "    mlp_regress = MLPRegressor(random_state=1, activation=activation, hidden_layer_sizes=hidden_layer, max_iter=20000).fit(train_x, train_y)\n",
    "\n",
    "    y_pred_mlp = mlp_regress.predict(test_x)\n",
    "\n",
    "    print('\\nMean Absolute Error:', metrics.mean_absolute_error(test_y, y_pred_mlp))\n",
    "    print('Mean Absolute % Error:', mean_absolute_percentage_error(test_y, y_pred_mlp))\n",
    "    print('Mean Squared Error:', metrics.mean_squared_error(test_y, y_pred_mlp))\n",
    "    print('Root Mean Squared Error:', np.sqrt(metrics.mean_squared_error(test_y, y_pred_mlp)))"
   ]
  },
  {
   "cell_type": "code",
   "execution_count": 158,
   "metadata": {},
   "outputs": [
    {
     "name": "stderr",
     "output_type": "stream",
     "text": [
      "/opt/anaconda3/envs/thesis/lib/python3.8/site-packages/sklearn/utils/validation.py:72: DataConversionWarning: A column-vector y was passed when a 1d array was expected. Please change the shape of y to (n_samples, ), for example using ravel().\n",
      "  return f(**kwargs)\n"
     ]
    },
    {
     "name": "stdout",
     "output_type": "stream",
     "text": [
      "\n",
      "Mean Absolute Error: 4543.569140841049\n",
      "Mean Absolute % Error: 3.9999728328559288\n",
      "Mean Squared Error: 20644020.537603073\n",
      "Root Mean Squared Error: 4543.569140841049\n"
     ]
    },
    {
     "name": "stderr",
     "output_type": "stream",
     "text": [
      "/opt/anaconda3/envs/thesis/lib/python3.8/site-packages/sklearn/utils/validation.py:72: DataConversionWarning: A column-vector y was passed when a 1d array was expected. Please change the shape of y to (n_samples, ), for example using ravel().\n",
      "  return f(**kwargs)\n"
     ]
    },
    {
     "name": "stdout",
     "output_type": "stream",
     "text": [
      "\n",
      "Mean Absolute Error: 4974.19774882152\n",
      "Mean Absolute % Error: 4.393469014486671\n",
      "Mean Squared Error: 24742643.244381074\n",
      "Root Mean Squared Error: 4974.19774882152\n"
     ]
    },
    {
     "name": "stderr",
     "output_type": "stream",
     "text": [
      "/opt/anaconda3/envs/thesis/lib/python3.8/site-packages/sklearn/utils/validation.py:72: DataConversionWarning: A column-vector y was passed when a 1d array was expected. Please change the shape of y to (n_samples, ), for example using ravel().\n",
      "  return f(**kwargs)\n"
     ]
    },
    {
     "name": "stdout",
     "output_type": "stream",
     "text": [
      "\n",
      "Mean Absolute Error: 2617.82635680199\n",
      "Mean Absolute % Error: 2.263909400259433\n",
      "Mean Squared Error: 6853014.834367181\n",
      "Root Mean Squared Error: 2617.82635680199\n"
     ]
    }
   ],
   "source": [
    "mlp_regressor(train_x_year, train_y_year, test_x_year_2014, test_y_year_2014, (100,), 'relu')\n",
    "mlp_regressor(train_x_year, train_y_year, test_x_year_2015, test_y_year_2015, (100,), 'relu')\n",
    "mlp_regressor(train_x_year, train_y_year, test_x_year_2016, test_y_year_2016, (100,), 'relu')"
   ]
  },
  {
   "cell_type": "markdown",
   "metadata": {},
   "source": [
    "#### SGD Regressor"
   ]
  },
  {
   "cell_type": "code",
   "execution_count": 93,
   "metadata": {},
   "outputs": [],
   "source": [
    "def sgd_regressor(train_x, train_y, test_x, test_y):\n",
    "    sgd_regress = make_pipeline(StandardScaler(), SGDRegressor(max_iter=20000, tol=1e-3)).fit(train_x, train_y)\n",
    "    y_pred_sgd = sgd_regress.predict(test_x)\n",
    "\n",
    "    print('\\nMean Absolute Error:', metrics.mean_absolute_error(test_y, y_pred_sgd))\n",
    "    print('Mean Absolute % Error:', mean_absolute_percentage_error(test_y, y_pred_sgd))\n",
    "    print('Mean Squared Error:', metrics.mean_squared_error(test_y, y_pred_sgd))\n",
    "    print('Root Mean Squared Error:', np.sqrt(metrics.mean_squared_error(test_y, y_pred_sgd)))"
   ]
  },
  {
   "cell_type": "code",
   "execution_count": 94,
   "metadata": {},
   "outputs": [
    {
     "name": "stdout",
     "output_type": "stream",
     "text": [
      "\n",
      "Mean Absolute Error: 3849.325565453997\n",
      "Mean Absolute % Error: 3.3887891235619305\n",
      "Mean Squared Error: 14817307.308857735\n",
      "Root Mean Squared Error: 3849.325565453997\n",
      "\n",
      "Mean Absolute Error: 3655.0096341666795\n",
      "Mean Absolute % Error: 3.228293764389655\n",
      "Mean Squared Error: 13359095.425851244\n",
      "Root Mean Squared Error: 3655.0096341666795\n",
      "\n",
      "Mean Absolute Error: 674.2385497524665\n",
      "Mean Absolute % Error: 0.5830848890476477\n",
      "Mean Squared Error: 454597.62197230925\n",
      "Root Mean Squared Error: 674.2385497524665\n"
     ]
    },
    {
     "name": "stderr",
     "output_type": "stream",
     "text": [
      "/opt/anaconda3/envs/thesis/lib/python3.8/site-packages/sklearn/utils/validation.py:72: DataConversionWarning: A column-vector y was passed when a 1d array was expected. Please change the shape of y to (n_samples, ), for example using ravel().\n",
      "  return f(**kwargs)\n",
      "/opt/anaconda3/envs/thesis/lib/python3.8/site-packages/sklearn/linear_model/_stochastic_gradient.py:1208: ConvergenceWarning: Maximum number of iteration reached before convergence. Consider increasing max_iter to improve the fit.\n",
      "  warnings.warn(\"Maximum number of iteration reached before \"\n",
      "/opt/anaconda3/envs/thesis/lib/python3.8/site-packages/sklearn/utils/validation.py:72: DataConversionWarning: A column-vector y was passed when a 1d array was expected. Please change the shape of y to (n_samples, ), for example using ravel().\n",
      "  return f(**kwargs)\n",
      "/opt/anaconda3/envs/thesis/lib/python3.8/site-packages/sklearn/linear_model/_stochastic_gradient.py:1208: ConvergenceWarning: Maximum number of iteration reached before convergence. Consider increasing max_iter to improve the fit.\n",
      "  warnings.warn(\"Maximum number of iteration reached before \"\n",
      "/opt/anaconda3/envs/thesis/lib/python3.8/site-packages/sklearn/utils/validation.py:72: DataConversionWarning: A column-vector y was passed when a 1d array was expected. Please change the shape of y to (n_samples, ), for example using ravel().\n",
      "  return f(**kwargs)\n",
      "/opt/anaconda3/envs/thesis/lib/python3.8/site-packages/sklearn/linear_model/_stochastic_gradient.py:1208: ConvergenceWarning: Maximum number of iteration reached before convergence. Consider increasing max_iter to improve the fit.\n",
      "  warnings.warn(\"Maximum number of iteration reached before \"\n"
     ]
    }
   ],
   "source": [
    "sgd_regressor(train_x_year, train_y_year, test_x_year_2014, test_y_year_2014)\n",
    "sgd_regressor(train_x_year, train_y_year, test_x_year_2015, test_y_year_2015)\n",
    "sgd_regressor(train_x_year, train_y_year, test_x_year_2016, test_y_year_2016)"
   ]
  },
  {
   "cell_type": "markdown",
   "metadata": {},
   "source": [
    "### Population Data"
   ]
  },
  {
   "cell_type": "code",
   "execution_count": 159,
   "metadata": {},
   "outputs": [],
   "source": [
    "# Merging Total Crime with Additional Data\n",
    "\n",
    "df_crime_per_year = dict(Counter(crime_df_prediction['Year']))\n",
    "df_crime_per_year = sorted(df_crime_per_year.items(), key=lambda x: x[0]) #sorting in ascending by key\n",
    "df_crime_per_year = dict((x, y) for x, y in df_crime_per_year)\n",
    "df_crime_per_year = pd.DataFrame(df_crime_per_year.items(), columns=['Year','Crimes'])\n",
    "\n",
    "crime_df_prediction = pd.merge(df_crime_per_year, crime_df_prediction, on=['Year'], how = 'inner')\n",
    "\n",
    "crime_df_prediction = crime_df_prediction[['Year', 'Median Incomes', 'Population', 'Enrollments', 'Unemployment Rate', 'Crimes']]"
   ]
  },
  {
   "cell_type": "code",
   "execution_count": 160,
   "metadata": {},
   "outputs": [
    {
     "name": "stderr",
     "output_type": "stream",
     "text": [
      "/var/folders/_m/g1hjkw4d3xx82r_yx60lb8kh0000gn/T/ipykernel_58110/4225069430.py:1: FutureWarning: Indexing with multiple keys (implicitly converted to a tuple of keys) will be deprecated, use a list instead.\n",
      "  crime_df_prediction_population = crime_df_prediction.groupby(['Year'],as_index=False)['Population', 'Crimes'].max()\n"
     ]
    },
    {
     "data": {
      "text/html": [
       "<div>\n",
       "<style scoped>\n",
       "    .dataframe tbody tr th:only-of-type {\n",
       "        vertical-align: middle;\n",
       "    }\n",
       "\n",
       "    .dataframe tbody tr th {\n",
       "        vertical-align: top;\n",
       "    }\n",
       "\n",
       "    .dataframe thead th {\n",
       "        text-align: right;\n",
       "    }\n",
       "</style>\n",
       "<table border=\"1\" class=\"dataframe\">\n",
       "  <thead>\n",
       "    <tr style=\"text-align: right;\">\n",
       "      <th></th>\n",
       "      <th>Year</th>\n",
       "      <th>Population</th>\n",
       "      <th>Crimes</th>\n",
       "    </tr>\n",
       "  </thead>\n",
       "  <tbody>\n",
       "    <tr>\n",
       "      <th>0</th>\n",
       "      <td>2011</td>\n",
       "      <td>1601948</td>\n",
       "      <td>115889</td>\n",
       "    </tr>\n",
       "    <tr>\n",
       "      <th>1</th>\n",
       "      <td>2012</td>\n",
       "      <td>1619090</td>\n",
       "      <td>120076</td>\n",
       "    </tr>\n",
       "    <tr>\n",
       "      <th>2</th>\n",
       "      <td>2013</td>\n",
       "      <td>1626159</td>\n",
       "      <td>118083</td>\n",
       "    </tr>\n",
       "    <tr>\n",
       "      <th>3</th>\n",
       "      <td>2014</td>\n",
       "      <td>1636268</td>\n",
       "      <td>113590</td>\n",
       "    </tr>\n",
       "    <tr>\n",
       "      <th>4</th>\n",
       "      <td>2015</td>\n",
       "      <td>1644518</td>\n",
       "      <td>113218</td>\n",
       "    </tr>\n",
       "    <tr>\n",
       "      <th>5</th>\n",
       "      <td>2016</td>\n",
       "      <td>1643734</td>\n",
       "      <td>115633</td>\n",
       "    </tr>\n",
       "  </tbody>\n",
       "</table>\n",
       "</div>"
      ],
      "text/plain": [
       "   Year  Population  Crimes\n",
       "0  2011     1601948  115889\n",
       "1  2012     1619090  120076\n",
       "2  2013     1626159  118083\n",
       "3  2014     1636268  113590\n",
       "4  2015     1644518  113218\n",
       "5  2016     1643734  115633"
      ]
     },
     "execution_count": 160,
     "metadata": {},
     "output_type": "execute_result"
    }
   ],
   "source": [
    "crime_df_prediction_population = crime_df_prediction.groupby(['Year'],as_index=False)['Population', 'Crimes'].max()\n",
    "\n",
    "crime_df_prediction_population"
   ]
  },
  {
   "cell_type": "code",
   "execution_count": 161,
   "metadata": {},
   "outputs": [],
   "source": [
    "#Splitting the dataset\n",
    "\n",
    "train_year_population = crime_df_prediction_population[crime_df_prediction_population['Year'] <= 2013].to_numpy()\n",
    "test_year_population = crime_df_prediction_population[crime_df_prediction_population['Year'] >= 2014].to_numpy()\n",
    "\n",
    "column_size = train_year_population.shape[1]\n",
    "\n",
    "train_x_year_population = train_year_population[:,[0,1]]\n",
    "train_y_year_population = train_year_population[:,column_size-1]\n",
    "test_x_year_population = test_year_population[:,[0,1]]\n",
    "test_y_year_population = test_year_population[:,column_size-1]"
   ]
  },
  {
   "cell_type": "code",
   "execution_count": 162,
   "metadata": {},
   "outputs": [],
   "source": [
    "test_x_year_population_2014, test_y_year_population_2014 = splitTestSet(test_x_year_population, test_y_year_population, 0, 1)\n",
    "test_x_year_population_2015, test_y_year_population_2015 = splitTestSet(test_x_year_population, test_y_year_population, 1, 2)\n",
    "test_x_year_population_2016, test_y_year_population_2016 = splitTestSet(test_x_year_population, test_y_year_population, 2, 3)"
   ]
  },
  {
   "cell_type": "markdown",
   "metadata": {},
   "source": [
    "#### Multiple Linear Regression"
   ]
  },
  {
   "cell_type": "code",
   "execution_count": 163,
   "metadata": {},
   "outputs": [
    {
     "name": "stdout",
     "output_type": "stream",
     "text": [
      "\n",
      "Mean Absolute Error: 4365.10473543033\n",
      "Mean Absolute % Error: 3.8428600540807554\n",
      "Mean Squared Error: 19054139.351276293\n",
      "Root Mean Squared Error: 4365.10473543033\n",
      "\n",
      "Mean Absolute Error: 3468.673384293914\n",
      "Mean Absolute % Error: 3.063711940057159\n",
      "Mean Squared Error: 12031695.046908993\n",
      "Root Mean Squared Error: 3468.673384293914\n",
      "\n",
      "Mean Absolute Error: 5757.309341805056\n",
      "Mean Absolute % Error: 4.978950076366656\n",
      "Mean Squared Error: 33146610.857235763\n",
      "Root Mean Squared Error: 5757.309341805056\n"
     ]
    }
   ],
   "source": [
    "linearRegression(train_x_year_population, train_y_year_population, test_x_year_population_2014, test_y_year_population_2014)\n",
    "linearRegression(train_x_year_population, train_y_year_population, test_x_year_population_2015, test_y_year_population_2015)\n",
    "linearRegression(train_x_year_population, train_y_year_population, test_x_year_population_2016, test_y_year_population_2016)"
   ]
  },
  {
   "cell_type": "markdown",
   "metadata": {},
   "source": [
    "#### Decision Tree Regressor"
   ]
  },
  {
   "cell_type": "code",
   "execution_count": 164,
   "metadata": {},
   "outputs": [
    {
     "name": "stdout",
     "output_type": "stream",
     "text": [
      "\n",
      "Mean Absolute Error: 4493.0\n",
      "Mean Absolute % Error: 3.9554538251606655\n",
      "Mean Squared Error: 20187049.0\n",
      "Root Mean Squared Error: 4493.0\n",
      "\n",
      "Mean Absolute Error: 4865.0\n",
      "Mean Absolute % Error: 4.297019908495116\n",
      "Mean Squared Error: 23668225.0\n",
      "Root Mean Squared Error: 4865.0\n",
      "\n",
      "Mean Absolute Error: 2450.0\n",
      "Mean Absolute % Error: 2.1187723227798294\n",
      "Mean Squared Error: 6002500.0\n",
      "Root Mean Squared Error: 2450.0\n"
     ]
    }
   ],
   "source": [
    "decisionTreeRegressor(train_x_year_population, train_y_year_population, test_x_year_population_2014, test_y_year_population_2014)\n",
    "decisionTreeRegressor(train_x_year_population, train_y_year_population, test_x_year_population_2015, test_y_year_population_2015)\n",
    "decisionTreeRegressor(train_x_year_population, train_y_year_population, test_x_year_population_2016, test_y_year_population_2016)"
   ]
  },
  {
   "cell_type": "markdown",
   "metadata": {},
   "source": [
    "#### Random Forest Regressor"
   ]
  },
  {
   "cell_type": "code",
   "execution_count": 165,
   "metadata": {},
   "outputs": [
    {
     "name": "stdout",
     "output_type": "stream",
     "text": [
      "\n",
      "Mean Absolute Error: 4936.706666666665\n",
      "Mean Absolute % Error: 4.346075065293305\n",
      "Mean Squared Error: 24371072.712711096\n",
      "Root Mean Squared Error: 4936.706666666665\n",
      "\n",
      "Mean Absolute Error: 5308.706666666665\n",
      "Mean Absolute % Error: 4.688924611516424\n",
      "Mean Squared Error: 28182366.472711094\n",
      "Root Mean Squared Error: 5308.706666666665\n",
      "\n",
      "Mean Absolute Error: 2893.706666666665\n",
      "Mean Absolute % Error: 2.5024920798272685\n",
      "Mean Squared Error: 8373538.272711102\n",
      "Root Mean Squared Error: 2893.706666666665\n"
     ]
    }
   ],
   "source": [
    "randomForestRegressor(train_x_year_population, train_y_year_population, test_x_year_population_2014, test_y_year_population_2014)\n",
    "randomForestRegressor(train_x_year_population, train_y_year_population, test_x_year_population_2015, test_y_year_population_2015)\n",
    "randomForestRegressor(train_x_year_population, train_y_year_population, test_x_year_population_2016, test_y_year_population_2016)"
   ]
  },
  {
   "cell_type": "markdown",
   "metadata": {},
   "source": [
    "#### Gradient Boosting Regressor"
   ]
  },
  {
   "cell_type": "code",
   "execution_count": 103,
   "metadata": {},
   "outputs": [
    {
     "name": "stdout",
     "output_type": "stream",
     "text": [
      "\n",
      "Mean Absolute Error: 4493.020452277153\n",
      "Mean Absolute % Error: 3.955471830510743\n",
      "Mean Squared Error: 20187232.78458079\n",
      "Root Mean Squared Error: 4493.020452277153\n",
      "\n",
      "Mean Absolute Error: 4865.020452277153\n",
      "Mean Absolute % Error: 4.297037973005311\n",
      "Mean Squared Error: 23668424.001074992\n",
      "Root Mean Squared Error: 4865.020452277153\n",
      "\n",
      "Mean Absolute Error: 2450.020452277153\n",
      "Mean Absolute % Error: 2.11879001001198\n",
      "Mean Squared Error: 6002600.216576344\n",
      "Root Mean Squared Error: 2450.020452277153\n"
     ]
    }
   ],
   "source": [
    "gradientBoostingRegressor(train_x_year_population, train_y_year_population, test_x_year_population_2014, test_y_year_population_2014)\n",
    "gradientBoostingRegressor(train_x_year_population, train_y_year_population, test_x_year_population_2015, test_y_year_population_2015)\n",
    "gradientBoostingRegressor(train_x_year_population, train_y_year_population, test_x_year_population_2016, test_y_year_population_2016)"
   ]
  },
  {
   "cell_type": "markdown",
   "metadata": {},
   "source": [
    "#### Multi Layer Perceptron Regressor"
   ]
  },
  {
   "cell_type": "code",
   "execution_count": 104,
   "metadata": {},
   "outputs": [
    {
     "name": "stdout",
     "output_type": "stream",
     "text": [
      "\n",
      "Mean Absolute Error: 10831.510238939605\n",
      "Mean Absolute % Error: 9.535619543040413\n",
      "Mean Squared Error: 117321614.05625351\n",
      "Root Mean Squared Error: 10831.510238939605\n",
      "\n",
      "Mean Absolute Error: 11830.886297282312\n",
      "Mean Absolute % Error: 10.449651378122129\n",
      "Mean Squared Error: 139969870.57922238\n",
      "Root Mean Squared Error: 11830.886297282312\n",
      "\n",
      "Mean Absolute Error: 9356.260701806474\n",
      "Mean Absolute % Error: 8.091341314163323\n",
      "Mean Squared Error: 87539614.32016817\n",
      "Root Mean Squared Error: 9356.260701806474\n"
     ]
    }
   ],
   "source": [
    "mlp_regressor(train_x_year_population, train_y_year_population, test_x_year_population_2014, test_y_year_population_2014, (100,100,100,100,100,100,100), 'relu')\n",
    "mlp_regressor(train_x_year_population, train_y_year_population, test_x_year_population_2015, test_y_year_population_2015, (100,100,100,100,100,100,100), 'relu')\n",
    "mlp_regressor(train_x_year_population, train_y_year_population, test_x_year_population_2016, test_y_year_population_2016, (100,100,100,100,100,100,100), 'relu')"
   ]
  },
  {
   "cell_type": "markdown",
   "metadata": {},
   "source": [
    "#### SGD Regressor"
   ]
  },
  {
   "cell_type": "code",
   "execution_count": 105,
   "metadata": {},
   "outputs": [
    {
     "name": "stdout",
     "output_type": "stream",
     "text": [
      "\n",
      "Mean Absolute Error: 3602.531223640035\n",
      "Mean Absolute % Error: 3.1715214575579145\n",
      "Mean Squared Error: 12978231.217301369\n",
      "Root Mean Squared Error: 3602.531223640035\n",
      "\n",
      "Mean Absolute Error: 3182.173246673119\n",
      "Mean Absolute % Error: 2.8106601836043024\n",
      "Mean Squared Error: 10126226.57184214\n",
      "Root Mean Squared Error: 3182.173246673119\n",
      "\n",
      "Mean Absolute Error: 489.4295916051051\n",
      "Mean Absolute % Error: 0.4232611725070742\n",
      "Mean Squared Error: 239541.32513873995\n",
      "Root Mean Squared Error: 489.4295916051051\n"
     ]
    },
    {
     "name": "stderr",
     "output_type": "stream",
     "text": [
      "/opt/anaconda3/envs/thesis/lib/python3.8/site-packages/sklearn/linear_model/_stochastic_gradient.py:1208: ConvergenceWarning: Maximum number of iteration reached before convergence. Consider increasing max_iter to improve the fit.\n",
      "  warnings.warn(\"Maximum number of iteration reached before \"\n",
      "/opt/anaconda3/envs/thesis/lib/python3.8/site-packages/sklearn/linear_model/_stochastic_gradient.py:1208: ConvergenceWarning: Maximum number of iteration reached before convergence. Consider increasing max_iter to improve the fit.\n",
      "  warnings.warn(\"Maximum number of iteration reached before \"\n",
      "/opt/anaconda3/envs/thesis/lib/python3.8/site-packages/sklearn/linear_model/_stochastic_gradient.py:1208: ConvergenceWarning: Maximum number of iteration reached before convergence. Consider increasing max_iter to improve the fit.\n",
      "  warnings.warn(\"Maximum number of iteration reached before \"\n"
     ]
    }
   ],
   "source": [
    "sgd_regressor(train_x_year_population, train_y_year_population, test_x_year_population_2014, test_y_year_population_2014)\n",
    "sgd_regressor(train_x_year_population, train_y_year_population, test_x_year_population_2015, test_y_year_population_2015)\n",
    "sgd_regressor(train_x_year_population, train_y_year_population, test_x_year_population_2016, test_y_year_population_2016)"
   ]
  },
  {
   "cell_type": "markdown",
   "metadata": {},
   "source": [
    "### Median Incomes Data"
   ]
  },
  {
   "cell_type": "code",
   "execution_count": 11,
   "metadata": {},
   "outputs": [
    {
     "name": "stderr",
     "output_type": "stream",
     "text": [
      "/var/folders/_m/g1hjkw4d3xx82r_yx60lb8kh0000gn/T/ipykernel_88449/3779647646.py:12: FutureWarning: Indexing with multiple keys (implicitly converted to a tuple of keys) will be deprecated, use a list instead.\n",
      "  crime_df_prediction_median = crime_df_prediction.groupby(['Year'],as_index=False)['Median Incomes', 'Crimes'].max()\n"
     ]
    }
   ],
   "source": [
    "# Merging Total Crime with Additional Data\n",
    "\n",
    "df_crime_per_year = dict(Counter(crime_df_prediction['Year']))\n",
    "df_crime_per_year = sorted(df_crime_per_year.items(), key=lambda x: x[0]) #sorting in ascending by key\n",
    "df_crime_per_year = dict((x, y) for x, y in df_crime_per_year)\n",
    "df_crime_per_year = pd.DataFrame(df_crime_per_year.items(), columns=['Year','Crimes'])\n",
    "\n",
    "crime_df_prediction = pd.merge(df_crime_per_year, crime_df_prediction, on=['Year'], how = 'inner')\n",
    "\n",
    "crime_df_prediction = crime_df_prediction[['Year', 'Median Incomes', 'Population', 'Enrollments', 'Unemployment Rate', 'Crimes']]\n",
    "\n",
    "crime_df_prediction_median = crime_df_prediction.groupby(['Year'],as_index=False)['Median Incomes', 'Crimes'].max()\n",
    "\n",
    "#Splitting the dataset\n",
    "\n",
    "train_year_median = crime_df_prediction_median[crime_df_prediction_median['Year'] <= 2013].to_numpy()\n",
    "test_year_median = crime_df_prediction_median[crime_df_prediction_median['Year'] >= 2014].to_numpy()\n",
    "\n",
    "column_size = train_year_median.shape[1]\n",
    "\n",
    "train_x_year_median = train_year_median[:,[0,1]]\n",
    "train_y_year_median = train_year_median[:,column_size-1]\n",
    "test_x_year_median = test_year_median[:,[0,1]]\n",
    "test_y_year_median = test_year_median[:,column_size-1]\n",
    "\n",
    "test_x_year_median_2014, test_y_year_median_2014 = splitTestSet(test_x_year_median, test_y_year_median, 0, 1)\n",
    "test_x_year_median_2015, test_y_year_median_2015 = splitTestSet(test_x_year_median, test_y_year_median, 1, 2)\n",
    "test_x_year_median_2016, test_y_year_median_2016 = splitTestSet(test_x_year_median, test_y_year_median, 2, 3)"
   ]
  },
  {
   "cell_type": "markdown",
   "metadata": {},
   "source": [
    "#### Multiple Linear Regression"
   ]
  },
  {
   "cell_type": "code",
   "execution_count": 14,
   "metadata": {},
   "outputs": [
    {
     "name": "stdout",
     "output_type": "stream",
     "text": [
      "\n",
      "Mean Absolute Error: 3068.1573130913894\n",
      "Mean Absolute % Error: 2.7010804763547758\n",
      "Mean Squared Error: 9413589.297876174\n",
      "Root Mean Squared Error: 3068.1573130913894\n",
      "\n",
      "Mean Absolute Error: 3382.6042524168734\n",
      "Mean Absolute % Error: 2.9876912261450244\n",
      "Mean Squared Error: 11442011.528468715\n",
      "Root Mean Squared Error: 3382.6042524168734\n",
      "\n",
      "Mean Absolute Error: 444.2254569209181\n",
      "Mean Absolute % Error: 0.3841684094686794\n",
      "Mean Squared Error: 197336.25657659845\n",
      "Root Mean Squared Error: 444.2254569209181\n"
     ]
    }
   ],
   "source": [
    "linearRegression(train_x_year_median, train_y_year_median, test_x_year_median_2014, test_y_year_median_2014)\n",
    "linearRegression(train_x_year_median, train_y_year_median, test_x_year_median_2015, test_y_year_median_2015)\n",
    "linearRegression(train_x_year_median, train_y_year_median, test_x_year_median_2016, test_y_year_median_2016)"
   ]
  },
  {
   "cell_type": "markdown",
   "metadata": {},
   "source": [
    "#### Random Forest Regressor"
   ]
  },
  {
   "cell_type": "code",
   "execution_count": null,
   "metadata": {},
   "outputs": [
    {
     "name": "stdout",
     "output_type": "stream",
     "text": [
      "\n",
      "Mean Absolute Error: 6742.639999999999\n",
      "Mean Absolute % Error: 5.935945065586759\n",
      "Mean Squared Error: 45463194.169599995\n",
      "Root Mean Squared Error: 6742.639999999999\n",
      "\n",
      "Mean Absolute Error: 7067.546666666662\n",
      "Mean Absolute % Error: 6.242423171816021\n",
      "Mean Squared Error: 49950215.88551104\n",
      "Root Mean Squared Error: 7067.546666666662\n",
      "\n",
      "Mean Absolute Error: 4699.639999999999\n",
      "Mean Absolute % Error: 4.064272309807753\n",
      "Mean Squared Error: 22086616.129599996\n",
      "Root Mean Squared Error: 4699.639999999999\n"
     ]
    }
   ],
   "source": [
    "randomForestRegressor(train_x_year_median, train_y_year_median, test_x_year_median_2014, test_y_year_median_2014)\n",
    "randomForestRegressor(train_x_year_median, train_y_year_median, test_x_year_median_2015, test_y_year_median_2015)\n",
    "randomForestRegressor(train_x_year_median, train_y_year_median, test_x_year_median_2016, test_y_year_median_2016)"
   ]
  },
  {
   "cell_type": "markdown",
   "metadata": {},
   "source": [
    "#### MLP Regressor"
   ]
  },
  {
   "cell_type": "code",
   "execution_count": null,
   "metadata": {},
   "outputs": [
    {
     "name": "stdout",
     "output_type": "stream",
     "text": [
      "\n",
      "Mean Absolute Error: 11456.927811615504\n",
      "Mean Absolute % Error: 10.086211648574261\n",
      "Mean Squared Error: 131261194.88056882\n",
      "Root Mean Squared Error: 11456.927811615504\n",
      "\n",
      "Mean Absolute Error: 10768.778345071973\n",
      "Mean Absolute % Error: 9.511542639043236\n",
      "Mean Squared Error: 115966587.04529105\n",
      "Root Mean Squared Error: 10768.778345071973\n",
      "\n",
      "Mean Absolute Error: 9990.325174075231\n",
      "Mean Absolute % Error: 8.639683458939256\n",
      "Mean Squared Error: 99806597.0837613\n",
      "Root Mean Squared Error: 9990.325174075231\n"
     ]
    }
   ],
   "source": [
    "mlp_regressor(train_x_year_median, train_y_year_median, test_x_year_median_2014, test_y_year_median_2014, (100,100,100,100,100), 'relu')\n",
    "mlp_regressor(train_x_year_median, train_y_year_median, test_x_year_median_2015, test_y_year_median_2015, (100,100,100,100,100), 'relu')\n",
    "mlp_regressor(train_x_year_median, train_y_year_median, test_x_year_median_2016, test_y_year_median_2016, (100,100,100,100,100), 'relu')"
   ]
  },
  {
   "cell_type": "markdown",
   "metadata": {},
   "source": [
    "### Population + Median Incomes Data"
   ]
  },
  {
   "cell_type": "code",
   "execution_count": 106,
   "metadata": {},
   "outputs": [
    {
     "name": "stderr",
     "output_type": "stream",
     "text": [
      "/var/folders/_m/g1hjkw4d3xx82r_yx60lb8kh0000gn/T/ipykernel_58110/3658104071.py:1: FutureWarning: Indexing with multiple keys (implicitly converted to a tuple of keys) will be deprecated, use a list instead.\n",
      "  crime_df_prediction_population_income = crime_df_prediction.groupby(['Year'],as_index=False)['Population', 'Median Incomes','Crimes'].max()\n"
     ]
    },
    {
     "data": {
      "text/html": [
       "<div>\n",
       "<style scoped>\n",
       "    .dataframe tbody tr th:only-of-type {\n",
       "        vertical-align: middle;\n",
       "    }\n",
       "\n",
       "    .dataframe tbody tr th {\n",
       "        vertical-align: top;\n",
       "    }\n",
       "\n",
       "    .dataframe thead th {\n",
       "        text-align: right;\n",
       "    }\n",
       "</style>\n",
       "<table border=\"1\" class=\"dataframe\">\n",
       "  <thead>\n",
       "    <tr style=\"text-align: right;\">\n",
       "      <th></th>\n",
       "      <th>Year</th>\n",
       "      <th>Population</th>\n",
       "      <th>Median Incomes</th>\n",
       "      <th>Crimes</th>\n",
       "    </tr>\n",
       "  </thead>\n",
       "  <tbody>\n",
       "    <tr>\n",
       "      <th>0</th>\n",
       "      <td>2010</td>\n",
       "      <td>1586698</td>\n",
       "      <td>75009</td>\n",
       "      <td>121364</td>\n",
       "    </tr>\n",
       "    <tr>\n",
       "      <th>1</th>\n",
       "      <td>2011</td>\n",
       "      <td>1601948</td>\n",
       "      <td>75527</td>\n",
       "      <td>115889</td>\n",
       "    </tr>\n",
       "    <tr>\n",
       "      <th>2</th>\n",
       "      <td>2012</td>\n",
       "      <td>1619090</td>\n",
       "      <td>74853</td>\n",
       "      <td>120076</td>\n",
       "    </tr>\n",
       "    <tr>\n",
       "      <th>3</th>\n",
       "      <td>2013</td>\n",
       "      <td>1626159</td>\n",
       "      <td>79356</td>\n",
       "      <td>118083</td>\n",
       "    </tr>\n",
       "    <tr>\n",
       "      <th>4</th>\n",
       "      <td>2014</td>\n",
       "      <td>1636268</td>\n",
       "      <td>82250</td>\n",
       "      <td>113590</td>\n",
       "    </tr>\n",
       "    <tr>\n",
       "      <th>5</th>\n",
       "      <td>2015</td>\n",
       "      <td>1644518</td>\n",
       "      <td>81553</td>\n",
       "      <td>113218</td>\n",
       "    </tr>\n",
       "    <tr>\n",
       "      <th>6</th>\n",
       "      <td>2016</td>\n",
       "      <td>1643734</td>\n",
       "      <td>82629</td>\n",
       "      <td>115633</td>\n",
       "    </tr>\n",
       "  </tbody>\n",
       "</table>\n",
       "</div>"
      ],
      "text/plain": [
       "   Year  Population  Median Incomes  Crimes\n",
       "0  2010     1586698           75009  121364\n",
       "1  2011     1601948           75527  115889\n",
       "2  2012     1619090           74853  120076\n",
       "3  2013     1626159           79356  118083\n",
       "4  2014     1636268           82250  113590\n",
       "5  2015     1644518           81553  113218\n",
       "6  2016     1643734           82629  115633"
      ]
     },
     "execution_count": 106,
     "metadata": {},
     "output_type": "execute_result"
    }
   ],
   "source": [
    "crime_df_prediction_population_income = crime_df_prediction.groupby(['Year'],as_index=False)['Population', 'Median Incomes','Crimes'].max()\n",
    "\n",
    "crime_df_prediction_population_income"
   ]
  },
  {
   "cell_type": "code",
   "execution_count": 107,
   "metadata": {},
   "outputs": [],
   "source": [
    "#Splitting the dataset\n",
    "\n",
    "train_year_population_income = crime_df_prediction_population_income[crime_df_prediction_population_income['Year'] <= 2013].to_numpy()\n",
    "test_year_population_income = crime_df_prediction_population_income[crime_df_prediction_population_income['Year'] >= 2014].to_numpy()\n",
    "\n",
    "column_size = train_year_population_income.shape[1]\n",
    "\n",
    "train_x_year_population_income = train_year_population_income[:,[0,1,2]]\n",
    "train_y_year_population_income = train_year_population_income[:,column_size-1]\n",
    "test_x_year_population_income = test_year_population_income[:,[0,1,2]]\n",
    "test_y_year_population_income = test_year_population_income[:,column_size-1]"
   ]
  },
  {
   "cell_type": "code",
   "execution_count": 108,
   "metadata": {},
   "outputs": [],
   "source": [
    "test_x_year_population_income_2014, test_y_year_population_income_2014 = splitTestSet(test_x_year_population_income, test_y_year_population_income, 0, 1)\n",
    "test_x_year_population_income_2015, test_y_year_population_income_2015 = splitTestSet(test_x_year_population_income, test_y_year_population_income, 1, 2)\n",
    "test_x_year_population_income_2016, test_y_year_population_income_2016 = splitTestSet(test_x_year_population_income, test_y_year_population_income, 2, 3)"
   ]
  },
  {
   "cell_type": "markdown",
   "metadata": {},
   "source": [
    "##### Multiple Linear Regression"
   ]
  },
  {
   "cell_type": "code",
   "execution_count": 109,
   "metadata": {},
   "outputs": [
    {
     "name": "stdout",
     "output_type": "stream",
     "text": [
      "\n",
      "Mean Absolute Error: 6168.919365644455\n",
      "Mean Absolute % Error: 5.430864834619645\n",
      "Mean Squared Error: 38055566.13982318\n",
      "Root Mean Squared Error: 6168.919365644455\n",
      "\n",
      "Mean Absolute Error: 183070.93022835255\n",
      "Mean Absolute % Error: 161.69772494510815\n",
      "Mean Squared Error: 33514965494.674328\n",
      "Root Mean Squared Error: 183070.93022835255\n",
      "\n",
      "Mean Absolute Error: 462742.8675124645\n",
      "Mean Absolute % Error: 400.1823592853809\n",
      "Mean Squared Error: 214130961433.6583\n",
      "Root Mean Squared Error: 462742.8675124645\n"
     ]
    }
   ],
   "source": [
    "linearRegression(train_x_year_population_income, train_y_year_population_income, test_x_year_population_income_2014, test_y_year_population_income_2014)\n",
    "linearRegression(train_x_year_population_income, train_y_year_population_income, test_x_year_population_income_2015, test_y_year_population_income_2015)\n",
    "linearRegression(train_x_year_population_income, train_y_year_population_income, test_x_year_population_income_2016, test_y_year_population_income_2016)"
   ]
  },
  {
   "cell_type": "markdown",
   "metadata": {},
   "source": [
    "##### Decision Tree Regressor"
   ]
  },
  {
   "cell_type": "code",
   "execution_count": 110,
   "metadata": {},
   "outputs": [
    {
     "name": "stdout",
     "output_type": "stream",
     "text": [
      "\n",
      "Mean Absolute Error: 4493.0\n",
      "Mean Absolute % Error: 3.9554538251606655\n",
      "Mean Squared Error: 20187049.0\n",
      "Root Mean Squared Error: 4493.0\n",
      "\n",
      "Mean Absolute Error: 4865.0\n",
      "Mean Absolute % Error: 4.297019908495116\n",
      "Mean Squared Error: 23668225.0\n",
      "Root Mean Squared Error: 4865.0\n",
      "\n",
      "Mean Absolute Error: 2450.0\n",
      "Mean Absolute % Error: 2.1187723227798294\n",
      "Mean Squared Error: 6002500.0\n",
      "Root Mean Squared Error: 2450.0\n"
     ]
    }
   ],
   "source": [
    "decisionTreeRegressor(train_x_year_population_income, train_y_year_population_income, test_x_year_population_income_2014, test_y_year_population_income_2014)\n",
    "decisionTreeRegressor(train_x_year_population_income, train_y_year_population_income, test_x_year_population_income_2015, test_y_year_population_income_2015)\n",
    "decisionTreeRegressor(train_x_year_population_income, train_y_year_population_income, test_x_year_population_income_2016, test_y_year_population_income_2016)"
   ]
  },
  {
   "cell_type": "markdown",
   "metadata": {},
   "source": [
    "#### Random Forest Regressor"
   ]
  },
  {
   "cell_type": "code",
   "execution_count": 111,
   "metadata": {},
   "outputs": [
    {
     "name": "stdout",
     "output_type": "stream",
     "text": [
      "\n",
      "Mean Absolute Error: 4144.393333333326\n",
      "Mean Absolute % Error: 3.6485547436687438\n",
      "Mean Squared Error: 17175996.10137772\n",
      "Root Mean Squared Error: 4144.393333333326\n",
      "\n",
      "Mean Absolute Error: 4516.393333333326\n",
      "Mean Absolute % Error: 3.9891124497282466\n",
      "Mean Squared Error: 20397808.74137771\n",
      "Root Mean Squared Error: 4516.393333333326\n",
      "\n",
      "Mean Absolute Error: 2101.393333333326\n",
      "Mean Absolute % Error: 1.8172955240574284\n",
      "Mean Squared Error: 4415853.941377748\n",
      "Root Mean Squared Error: 2101.393333333326\n"
     ]
    }
   ],
   "source": [
    "randomForestRegressor(train_x_year_population_income, train_y_year_population_income, test_x_year_population_income_2014, test_y_year_population_income_2014)\n",
    "randomForestRegressor(train_x_year_population_income, train_y_year_population_income, test_x_year_population_income_2015, test_y_year_population_income_2015)\n",
    "randomForestRegressor(train_x_year_population_income, train_y_year_population_income, test_x_year_population_income_2016, test_y_year_population_income_2016)"
   ]
  },
  {
   "cell_type": "markdown",
   "metadata": {},
   "source": [
    "#### Gradient Boosting Regressor"
   ]
  },
  {
   "cell_type": "code",
   "execution_count": 112,
   "metadata": {},
   "outputs": [
    {
     "name": "stdout",
     "output_type": "stream",
     "text": [
      "\n",
      "Mean Absolute Error: 4493.020452277153\n",
      "Mean Absolute % Error: 3.955471830510743\n",
      "Mean Squared Error: 20187232.78458079\n",
      "Root Mean Squared Error: 4493.020452277153\n",
      "\n",
      "Mean Absolute Error: 4865.020452277153\n",
      "Mean Absolute % Error: 4.297037973005311\n",
      "Mean Squared Error: 23668424.001074992\n",
      "Root Mean Squared Error: 4865.020452277153\n",
      "\n",
      "Mean Absolute Error: 2450.020452277153\n",
      "Mean Absolute % Error: 2.11879001001198\n",
      "Mean Squared Error: 6002600.216576344\n",
      "Root Mean Squared Error: 2450.020452277153\n"
     ]
    }
   ],
   "source": [
    "gradientBoostingRegressor(train_x_year_population_income, train_y_year_population_income, test_x_year_population_income_2014, test_y_year_population_income_2014)\n",
    "gradientBoostingRegressor(train_x_year_population_income, train_y_year_population_income, test_x_year_population_income_2015, test_y_year_population_income_2015)\n",
    "gradientBoostingRegressor(train_x_year_population_income, train_y_year_population_income, test_x_year_population_income_2016, test_y_year_population_income_2016)"
   ]
  },
  {
   "cell_type": "markdown",
   "metadata": {},
   "source": [
    "#### Multi Layer Perceptron Regressor"
   ]
  },
  {
   "cell_type": "code",
   "execution_count": 113,
   "metadata": {},
   "outputs": [
    {
     "name": "stdout",
     "output_type": "stream",
     "text": [
      "\n",
      "Mean Absolute Error: 1846.86137040623\n",
      "Mean Absolute % Error: 1.6259013737179595\n",
      "Mean Squared Error: 3410896.921498778\n",
      "Root Mean Squared Error: 1846.86137040623\n",
      "\n",
      "Mean Absolute Error: 2771.0666868881526\n",
      "Mean Absolute % Error: 2.4475495830063707\n",
      "Mean Squared Error: 7678810.5831812825\n",
      "Root Mean Squared Error: 2771.0666868881526\n",
      "\n",
      "Mean Absolute Error: 330.9248249504162\n",
      "Mean Absolute % Error: 0.286185453071715\n",
      "Mean Squared Error: 109511.23976846362\n",
      "Root Mean Squared Error: 330.9248249504162\n"
     ]
    }
   ],
   "source": [
    "mlp_regressor(train_x_year_population_income, train_y_year_population_income, test_x_year_population_income_2014, test_y_year_population_income_2014, (100,100,100,100,100,100,100,100,100), 'relu')\n",
    "mlp_regressor(train_x_year_population_income, train_y_year_population_income, test_x_year_population_income_2015, test_y_year_population_income_2015, (100,100,100,100,100,100,100,100,100), 'relu')\n",
    "mlp_regressor(train_x_year_population_income, train_y_year_population_income, test_x_year_population_income_2016, test_y_year_population_income_2016, (100,100,100,100,100,100,100,100,100), 'relu')"
   ]
  },
  {
   "cell_type": "markdown",
   "metadata": {},
   "source": [
    "#### SGD Regressor"
   ]
  },
  {
   "cell_type": "code",
   "execution_count": 114,
   "metadata": {},
   "outputs": [
    {
     "name": "stdout",
     "output_type": "stream",
     "text": [
      "\n",
      "Mean Absolute Error: 3082.3748120819364\n",
      "Mean Absolute % Error: 2.713596982200842\n",
      "Mean Squared Error: 9501034.482157152\n",
      "Root Mean Squared Error: 3082.3748120819364\n",
      "\n",
      "Mean Absolute Error: 3631.794048430733\n",
      "Mean Absolute % Error: 3.207788556970387\n",
      "Mean Squared Error: 13189928.010216892\n",
      "Root Mean Squared Error: 3631.794048430733\n",
      "\n",
      "Mean Absolute Error: 1088.0311779736949\n",
      "Mean Absolute % Error: 0.9409348351886528\n",
      "Mean Squared Error: 1183811.844242826\n",
      "Root Mean Squared Error: 1088.0311779736949\n"
     ]
    },
    {
     "name": "stderr",
     "output_type": "stream",
     "text": [
      "/opt/anaconda3/envs/thesis/lib/python3.8/site-packages/sklearn/linear_model/_stochastic_gradient.py:1208: ConvergenceWarning: Maximum number of iteration reached before convergence. Consider increasing max_iter to improve the fit.\n",
      "  warnings.warn(\"Maximum number of iteration reached before \"\n",
      "/opt/anaconda3/envs/thesis/lib/python3.8/site-packages/sklearn/linear_model/_stochastic_gradient.py:1208: ConvergenceWarning: Maximum number of iteration reached before convergence. Consider increasing max_iter to improve the fit.\n",
      "  warnings.warn(\"Maximum number of iteration reached before \"\n",
      "/opt/anaconda3/envs/thesis/lib/python3.8/site-packages/sklearn/linear_model/_stochastic_gradient.py:1208: ConvergenceWarning: Maximum number of iteration reached before convergence. Consider increasing max_iter to improve the fit.\n",
      "  warnings.warn(\"Maximum number of iteration reached before \"\n"
     ]
    }
   ],
   "source": [
    "sgd_regressor(train_x_year_population_income, train_y_year_population_income, test_x_year_population_income_2014, test_y_year_population_income_2014)\n",
    "sgd_regressor(train_x_year_population_income, train_y_year_population_income, test_x_year_population_income_2015, test_y_year_population_income_2015)\n",
    "sgd_regressor(train_x_year_population_income, train_y_year_population_income, test_x_year_population_income_2016, test_y_year_population_income_2016)"
   ]
  },
  {
   "cell_type": "markdown",
   "metadata": {},
   "source": [
    "### Population + Median Income + Unemployment Rate"
   ]
  },
  {
   "cell_type": "code",
   "execution_count": 115,
   "metadata": {},
   "outputs": [
    {
     "name": "stderr",
     "output_type": "stream",
     "text": [
      "/var/folders/_m/g1hjkw4d3xx82r_yx60lb8kh0000gn/T/ipykernel_58110/3192376069.py:1: FutureWarning: Indexing with multiple keys (implicitly converted to a tuple of keys) will be deprecated, use a list instead.\n",
      "  crime_df_prediction_population_income_unemployment = crime_df_prediction.groupby(['Year'],as_index=False)['Population', 'Median Incomes', 'Unemployment Rate','Crimes'].max()\n"
     ]
    },
    {
     "data": {
      "text/html": [
       "<div>\n",
       "<style scoped>\n",
       "    .dataframe tbody tr th:only-of-type {\n",
       "        vertical-align: middle;\n",
       "    }\n",
       "\n",
       "    .dataframe tbody tr th {\n",
       "        vertical-align: top;\n",
       "    }\n",
       "\n",
       "    .dataframe thead th {\n",
       "        text-align: right;\n",
       "    }\n",
       "</style>\n",
       "<table border=\"1\" class=\"dataframe\">\n",
       "  <thead>\n",
       "    <tr style=\"text-align: right;\">\n",
       "      <th></th>\n",
       "      <th>Year</th>\n",
       "      <th>Population</th>\n",
       "      <th>Median Incomes</th>\n",
       "      <th>Unemployment Rate</th>\n",
       "      <th>Crimes</th>\n",
       "    </tr>\n",
       "  </thead>\n",
       "  <tbody>\n",
       "    <tr>\n",
       "      <th>0</th>\n",
       "      <td>2010</td>\n",
       "      <td>1586698</td>\n",
       "      <td>75009</td>\n",
       "      <td>0.09173</td>\n",
       "      <td>121364</td>\n",
       "    </tr>\n",
       "    <tr>\n",
       "      <th>1</th>\n",
       "      <td>2011</td>\n",
       "      <td>1601948</td>\n",
       "      <td>75527</td>\n",
       "      <td>0.08969</td>\n",
       "      <td>115889</td>\n",
       "    </tr>\n",
       "    <tr>\n",
       "      <th>2</th>\n",
       "      <td>2012</td>\n",
       "      <td>1619090</td>\n",
       "      <td>74853</td>\n",
       "      <td>0.08816</td>\n",
       "      <td>120076</td>\n",
       "    </tr>\n",
       "    <tr>\n",
       "      <th>3</th>\n",
       "      <td>2013</td>\n",
       "      <td>1626159</td>\n",
       "      <td>79356</td>\n",
       "      <td>0.07493</td>\n",
       "      <td>118083</td>\n",
       "    </tr>\n",
       "    <tr>\n",
       "      <th>4</th>\n",
       "      <td>2014</td>\n",
       "      <td>1636268</td>\n",
       "      <td>82250</td>\n",
       "      <td>0.06600</td>\n",
       "      <td>113590</td>\n",
       "    </tr>\n",
       "    <tr>\n",
       "      <th>5</th>\n",
       "      <td>2015</td>\n",
       "      <td>1644518</td>\n",
       "      <td>81553</td>\n",
       "      <td>0.06100</td>\n",
       "      <td>113218</td>\n",
       "    </tr>\n",
       "    <tr>\n",
       "      <th>6</th>\n",
       "      <td>2016</td>\n",
       "      <td>1643734</td>\n",
       "      <td>82629</td>\n",
       "      <td>0.05500</td>\n",
       "      <td>115633</td>\n",
       "    </tr>\n",
       "  </tbody>\n",
       "</table>\n",
       "</div>"
      ],
      "text/plain": [
       "   Year  Population  Median Incomes  Unemployment Rate  Crimes\n",
       "0  2010     1586698           75009            0.09173  121364\n",
       "1  2011     1601948           75527            0.08969  115889\n",
       "2  2012     1619090           74853            0.08816  120076\n",
       "3  2013     1626159           79356            0.07493  118083\n",
       "4  2014     1636268           82250            0.06600  113590\n",
       "5  2015     1644518           81553            0.06100  113218\n",
       "6  2016     1643734           82629            0.05500  115633"
      ]
     },
     "execution_count": 115,
     "metadata": {},
     "output_type": "execute_result"
    }
   ],
   "source": [
    "crime_df_prediction_population_income_unemployment = crime_df_prediction.groupby(['Year'],as_index=False)['Population', 'Median Incomes', 'Unemployment Rate','Crimes'].max()\n",
    "\n",
    "crime_df_prediction_population_income_unemployment"
   ]
  },
  {
   "cell_type": "code",
   "execution_count": 116,
   "metadata": {},
   "outputs": [],
   "source": [
    "#Splitting the dataset\n",
    "\n",
    "train_year_population_income_unemployment = crime_df_prediction_population_income_unemployment[crime_df_prediction_population_income_unemployment['Year'] <= 2013].to_numpy()\n",
    "test_year_population_income_unemployment = crime_df_prediction_population_income_unemployment[crime_df_prediction_population_income_unemployment['Year'] >= 2014].to_numpy()\n",
    "\n",
    "column_size = train_year_population_income_unemployment.shape[1]\n",
    "\n",
    "train_x_year_population_income_unemployment = train_year_population_income_unemployment[:,[0,1,2,3]]\n",
    "train_y_year_population_income_unemployment = train_year_population_income_unemployment[:,column_size-1]\n",
    "test_x_year_population_income_unemployment = test_year_population_income_unemployment[:,[0,1,2,3]]\n",
    "test_y_year_population_income_unemployment = test_year_population_income_unemployment[:,column_size-1]"
   ]
  },
  {
   "cell_type": "code",
   "execution_count": 117,
   "metadata": {},
   "outputs": [],
   "source": [
    "test_x_year_population_income_unemployment_2014, test_y_year_population_income_unemployment_2014 = splitTestSet(test_x_year_population_income_unemployment, test_y_year_population_income_unemployment, 0, 1)\n",
    "test_x_year_population_income_unemployment_2015, test_y_year_population_income_unemployment_2015 = splitTestSet(test_x_year_population_income_unemployment, test_y_year_population_income_unemployment, 1, 2)\n",
    "test_x_year_population_income_unemployment_2016, test_y_year_population_income_unemployment_2016 = splitTestSet(test_x_year_population_income_unemployment, test_y_year_population_income_unemployment, 2, 3)"
   ]
  },
  {
   "cell_type": "markdown",
   "metadata": {},
   "source": [
    "#### Multiple Linear Regression"
   ]
  },
  {
   "cell_type": "code",
   "execution_count": 118,
   "metadata": {},
   "outputs": [
    {
     "name": "stdout",
     "output_type": "stream",
     "text": [
      "\n",
      "Mean Absolute Error: 6139.918611168861\n",
      "Mean Absolute % Error: 5.40533375400023\n",
      "Mean Squared Error: 37698600.55177776\n",
      "Root Mean Squared Error: 6139.918611168861\n",
      "\n",
      "Mean Absolute Error: 181957.2614070177\n",
      "Mean Absolute % Error: 160.71407497660948\n",
      "Mean Squared Error: 33108444978.741776\n",
      "Root Mean Squared Error: 181957.2614070177\n",
      "\n",
      "Mean Absolute Error: 459732.7607014179\n",
      "Mean Absolute % Error: 397.5792037752354\n",
      "Mean Squared Error: 211354211262.1472\n",
      "Root Mean Squared Error: 459732.7607014179\n"
     ]
    }
   ],
   "source": [
    "linearRegression(train_x_year_population_income_unemployment, train_y_year_population_income_unemployment, test_x_year_population_income_unemployment_2014, test_y_year_population_income_unemployment_2014)\n",
    "linearRegression(train_x_year_population_income_unemployment, train_y_year_population_income_unemployment, test_x_year_population_income_unemployment_2015, test_y_year_population_income_unemployment_2015)\n",
    "linearRegression(train_x_year_population_income_unemployment, train_y_year_population_income_unemployment, test_x_year_population_income_unemployment_2016, test_y_year_population_income_unemployment_2016)"
   ]
  },
  {
   "cell_type": "markdown",
   "metadata": {},
   "source": [
    "#### Decision Tree Regressor"
   ]
  },
  {
   "cell_type": "code",
   "execution_count": 119,
   "metadata": {},
   "outputs": [
    {
     "name": "stdout",
     "output_type": "stream",
     "text": [
      "\n",
      "Mean Absolute Error: 4493.0\n",
      "Mean Absolute % Error: 3.9554538251606655\n",
      "Mean Squared Error: 20187049.0\n",
      "Root Mean Squared Error: 4493.0\n",
      "\n",
      "Mean Absolute Error: 4865.0\n",
      "Mean Absolute % Error: 4.297019908495116\n",
      "Mean Squared Error: 23668225.0\n",
      "Root Mean Squared Error: 4865.0\n",
      "\n",
      "Mean Absolute Error: 2450.0\n",
      "Mean Absolute % Error: 2.1187723227798294\n",
      "Mean Squared Error: 6002500.0\n",
      "Root Mean Squared Error: 2450.0\n"
     ]
    }
   ],
   "source": [
    "decisionTreeRegressor(train_x_year_population_income_unemployment, train_y_year_population_income_unemployment, test_x_year_population_income_unemployment_2014, test_y_year_population_income_unemployment_2014)\n",
    "decisionTreeRegressor(train_x_year_population_income_unemployment, train_y_year_population_income_unemployment, test_x_year_population_income_unemployment_2015, test_y_year_population_income_unemployment_2015)\n",
    "decisionTreeRegressor(train_x_year_population_income_unemployment, train_y_year_population_income_unemployment, test_x_year_population_income_unemployment_2016, test_y_year_population_income_unemployment_2016)"
   ]
  },
  {
   "cell_type": "markdown",
   "metadata": {},
   "source": [
    "#### Random Forest Regressor"
   ]
  },
  {
   "cell_type": "code",
   "execution_count": 120,
   "metadata": {},
   "outputs": [
    {
     "name": "stdout",
     "output_type": "stream",
     "text": [
      "\n",
      "Mean Absolute Error: 4245.306666666671\n",
      "Mean Absolute % Error: 3.7373947237139458\n",
      "Mean Squared Error: 18022628.694044482\n",
      "Root Mean Squared Error: 4245.306666666671\n",
      "\n",
      "Mean Absolute Error: 4617.306666666671\n",
      "Mean Absolute % Error: 4.0782443309956635\n",
      "Mean Squared Error: 21319520.854044482\n",
      "Root Mean Squared Error: 4617.306666666671\n",
      "\n",
      "Mean Absolute Error: 2202.306666666671\n",
      "Mean Absolute % Error: 1.9045658822885083\n",
      "Mean Squared Error: 4850154.654044463\n",
      "Root Mean Squared Error: 2202.306666666671\n"
     ]
    }
   ],
   "source": [
    "randomForestRegressor(train_x_year_population_income_unemployment, train_y_year_population_income_unemployment, test_x_year_population_income_unemployment_2014, test_y_year_population_income_unemployment_2014)\n",
    "randomForestRegressor(train_x_year_population_income_unemployment, train_y_year_population_income_unemployment, test_x_year_population_income_unemployment_2015, test_y_year_population_income_unemployment_2015)\n",
    "randomForestRegressor(train_x_year_population_income_unemployment, train_y_year_population_income_unemployment, test_x_year_population_income_unemployment_2016, test_y_year_population_income_unemployment_2016)"
   ]
  },
  {
   "cell_type": "markdown",
   "metadata": {},
   "source": [
    "#### Gradient Boosting Regressor"
   ]
  },
  {
   "cell_type": "code",
   "execution_count": 121,
   "metadata": {},
   "outputs": [
    {
     "name": "stdout",
     "output_type": "stream",
     "text": [
      "\n",
      "Mean Absolute Error: 4493.020452277153\n",
      "Mean Absolute % Error: 3.955471830510743\n",
      "Mean Squared Error: 20187232.78458079\n",
      "Root Mean Squared Error: 4493.020452277153\n",
      "\n",
      "Mean Absolute Error: 4865.020452277153\n",
      "Mean Absolute % Error: 4.297037973005311\n",
      "Mean Squared Error: 23668424.001074992\n",
      "Root Mean Squared Error: 4865.020452277153\n",
      "\n",
      "Mean Absolute Error: 2450.020452277153\n",
      "Mean Absolute % Error: 2.11879001001198\n",
      "Mean Squared Error: 6002600.216576344\n",
      "Root Mean Squared Error: 2450.020452277153\n"
     ]
    }
   ],
   "source": [
    "gradientBoostingRegressor(train_x_year_population_income_unemployment, train_y_year_population_income_unemployment, test_x_year_population_income_unemployment_2014, test_y_year_population_income_unemployment_2014)\n",
    "gradientBoostingRegressor(train_x_year_population_income_unemployment, train_y_year_population_income_unemployment, test_x_year_population_income_unemployment_2015, test_y_year_population_income_unemployment_2015)\n",
    "gradientBoostingRegressor(train_x_year_population_income_unemployment, train_y_year_population_income_unemployment, test_x_year_population_income_unemployment_2016, test_y_year_population_income_unemployment_2016)"
   ]
  },
  {
   "cell_type": "markdown",
   "metadata": {},
   "source": [
    "#### Multi Layer Perceptron Regressor"
   ]
  },
  {
   "cell_type": "code",
   "execution_count": 122,
   "metadata": {},
   "outputs": [
    {
     "name": "stdout",
     "output_type": "stream",
     "text": [
      "\n",
      "Mean Absolute Error: 241.59402640996268\n",
      "Mean Absolute % Error: 0.21268952056515775\n",
      "Mean Squared Error: 58367.673596977744\n",
      "Root Mean Squared Error: 241.59402640996268\n",
      "\n",
      "Mean Absolute Error: 743.0281274403533\n",
      "Mean Absolute % Error: 0.6562809159677377\n",
      "Mean Squared Error: 552090.7981675179\n",
      "Root Mean Squared Error: 743.0281274403533\n",
      "\n",
      "Mean Absolute Error: 1767.6648810192855\n",
      "Mean Absolute % Error: 1.5286854799402294\n",
      "Mean Squared Error: 3124639.1315889247\n",
      "Root Mean Squared Error: 1767.6648810192855\n"
     ]
    }
   ],
   "source": [
    "mlp_regressor(train_x_year_population_income_unemployment, train_y_year_population_income_unemployment, test_x_year_population_income_unemployment_2014, test_y_year_population_income_unemployment_2014, (100,100,100,100,100,100,100,100), 'identity')\n",
    "mlp_regressor(train_x_year_population_income_unemployment, train_y_year_population_income_unemployment, test_x_year_population_income_unemployment_2015, test_y_year_population_income_unemployment_2015, (100,100,100,100,100,100,100,100), 'identity')\n",
    "mlp_regressor(train_x_year_population_income_unemployment, train_y_year_population_income_unemployment, test_x_year_population_income_unemployment_2016, test_y_year_population_income_unemployment_2016, (100,100,100,100,100,100,100,100), 'identity')"
   ]
  },
  {
   "cell_type": "markdown",
   "metadata": {},
   "source": [
    "#### SGD Regressor"
   ]
  },
  {
   "cell_type": "code",
   "execution_count": 123,
   "metadata": {},
   "outputs": [
    {
     "name": "stdout",
     "output_type": "stream",
     "text": [
      "\n",
      "Mean Absolute Error: 3036.8456847633643\n",
      "Mean Absolute % Error: 2.6735149967104186\n",
      "Mean Squared Error: 9222431.713065866\n",
      "Root Mean Squared Error: 3036.8456847633643\n",
      "\n",
      "Mean Absolute Error: 7526.855663619121\n",
      "Mean Absolute % Error: 6.64810866083054\n",
      "Mean Squared Error: 56653556.18095523\n",
      "Root Mean Squared Error: 7526.855663619121\n",
      "\n",
      "Mean Absolute Error: 6475.651498360297\n",
      "Mean Absolute % Error: 5.600175986405522\n",
      "Mean Squared Error: 41934062.328215964\n",
      "Root Mean Squared Error: 6475.651498360297\n"
     ]
    },
    {
     "name": "stderr",
     "output_type": "stream",
     "text": [
      "/opt/anaconda3/envs/thesis/lib/python3.8/site-packages/sklearn/linear_model/_stochastic_gradient.py:1208: ConvergenceWarning: Maximum number of iteration reached before convergence. Consider increasing max_iter to improve the fit.\n",
      "  warnings.warn(\"Maximum number of iteration reached before \"\n",
      "/opt/anaconda3/envs/thesis/lib/python3.8/site-packages/sklearn/linear_model/_stochastic_gradient.py:1208: ConvergenceWarning: Maximum number of iteration reached before convergence. Consider increasing max_iter to improve the fit.\n",
      "  warnings.warn(\"Maximum number of iteration reached before \"\n",
      "/opt/anaconda3/envs/thesis/lib/python3.8/site-packages/sklearn/linear_model/_stochastic_gradient.py:1208: ConvergenceWarning: Maximum number of iteration reached before convergence. Consider increasing max_iter to improve the fit.\n",
      "  warnings.warn(\"Maximum number of iteration reached before \"\n"
     ]
    }
   ],
   "source": [
    "sgd_regressor(train_x_year_population_income_unemployment, train_y_year_population_income_unemployment, test_x_year_population_income_unemployment_2014, test_y_year_population_income_unemployment_2014)\n",
    "sgd_regressor(train_x_year_population_income_unemployment, train_y_year_population_income_unemployment, test_x_year_population_income_unemployment_2015, test_y_year_population_income_unemployment_2015)\n",
    "sgd_regressor(train_x_year_population_income_unemployment, train_y_year_population_income_unemployment, test_x_year_population_income_unemployment_2016, test_y_year_population_income_unemployment_2016)"
   ]
  },
  {
   "cell_type": "markdown",
   "metadata": {},
   "source": [
    "### Unemployment Data"
   ]
  },
  {
   "cell_type": "code",
   "execution_count": 124,
   "metadata": {},
   "outputs": [
    {
     "name": "stderr",
     "output_type": "stream",
     "text": [
      "/var/folders/_m/g1hjkw4d3xx82r_yx60lb8kh0000gn/T/ipykernel_58110/667781964.py:1: FutureWarning: Indexing with multiple keys (implicitly converted to a tuple of keys) will be deprecated, use a list instead.\n",
      "  crime_df_prediction_unemployment = crime_df_prediction.groupby(['Year'],as_index=False)['Unemployment Rate','Crimes'].max()\n"
     ]
    },
    {
     "data": {
      "text/html": [
       "<div>\n",
       "<style scoped>\n",
       "    .dataframe tbody tr th:only-of-type {\n",
       "        vertical-align: middle;\n",
       "    }\n",
       "\n",
       "    .dataframe tbody tr th {\n",
       "        vertical-align: top;\n",
       "    }\n",
       "\n",
       "    .dataframe thead th {\n",
       "        text-align: right;\n",
       "    }\n",
       "</style>\n",
       "<table border=\"1\" class=\"dataframe\">\n",
       "  <thead>\n",
       "    <tr style=\"text-align: right;\">\n",
       "      <th></th>\n",
       "      <th>Year</th>\n",
       "      <th>Unemployment Rate</th>\n",
       "      <th>Crimes</th>\n",
       "    </tr>\n",
       "  </thead>\n",
       "  <tbody>\n",
       "    <tr>\n",
       "      <th>0</th>\n",
       "      <td>2010</td>\n",
       "      <td>0.09173</td>\n",
       "      <td>121364</td>\n",
       "    </tr>\n",
       "    <tr>\n",
       "      <th>1</th>\n",
       "      <td>2011</td>\n",
       "      <td>0.08969</td>\n",
       "      <td>115889</td>\n",
       "    </tr>\n",
       "    <tr>\n",
       "      <th>2</th>\n",
       "      <td>2012</td>\n",
       "      <td>0.08816</td>\n",
       "      <td>120076</td>\n",
       "    </tr>\n",
       "    <tr>\n",
       "      <th>3</th>\n",
       "      <td>2013</td>\n",
       "      <td>0.07493</td>\n",
       "      <td>118083</td>\n",
       "    </tr>\n",
       "    <tr>\n",
       "      <th>4</th>\n",
       "      <td>2014</td>\n",
       "      <td>0.06600</td>\n",
       "      <td>113590</td>\n",
       "    </tr>\n",
       "    <tr>\n",
       "      <th>5</th>\n",
       "      <td>2015</td>\n",
       "      <td>0.06100</td>\n",
       "      <td>113218</td>\n",
       "    </tr>\n",
       "    <tr>\n",
       "      <th>6</th>\n",
       "      <td>2016</td>\n",
       "      <td>0.05500</td>\n",
       "      <td>115633</td>\n",
       "    </tr>\n",
       "  </tbody>\n",
       "</table>\n",
       "</div>"
      ],
      "text/plain": [
       "   Year  Unemployment Rate  Crimes\n",
       "0  2010            0.09173  121364\n",
       "1  2011            0.08969  115889\n",
       "2  2012            0.08816  120076\n",
       "3  2013            0.07493  118083\n",
       "4  2014            0.06600  113590\n",
       "5  2015            0.06100  113218\n",
       "6  2016            0.05500  115633"
      ]
     },
     "execution_count": 124,
     "metadata": {},
     "output_type": "execute_result"
    }
   ],
   "source": [
    "crime_df_prediction_unemployment = crime_df_prediction.groupby(['Year'],as_index=False)['Unemployment Rate','Crimes'].max()\n",
    "\n",
    "crime_df_prediction_unemployment"
   ]
  },
  {
   "cell_type": "code",
   "execution_count": 125,
   "metadata": {},
   "outputs": [],
   "source": [
    "#Splitting the dataset\n",
    "\n",
    "train_year_unemployment = crime_df_prediction_unemployment[crime_df_prediction_unemployment['Year'] <= 2013].to_numpy()\n",
    "test_year_unemployment = crime_df_prediction_unemployment[crime_df_prediction_unemployment['Year'] >= 2014].to_numpy()\n",
    "\n",
    "column_size = train_year_unemployment.shape[1]\n",
    "\n",
    "train_x_year_unemployment = train_year_unemployment[:,[0,1]]\n",
    "train_y_year_unemployment = train_year_unemployment[:,column_size-1]\n",
    "test_x_year_unemployment = test_year_unemployment[:,[0,1]]\n",
    "test_y_year_unemployment = test_year_unemployment[:,column_size-1]"
   ]
  },
  {
   "cell_type": "code",
   "execution_count": 126,
   "metadata": {},
   "outputs": [],
   "source": [
    "test_x_year_unemployment_2014, test_y_year_unemployment_2014 = splitTestSet(test_x_year_unemployment, test_y_year_unemployment, 0, 1)\n",
    "test_x_year_unemployment_2015, test_y_year_unemployment_2015 = splitTestSet(test_x_year_unemployment, test_y_year_unemployment, 1, 2)\n",
    "test_x_year_unemployment_2016, test_y_year_unemployment_2016 = splitTestSet(test_x_year_unemployment, test_y_year_unemployment, 2, 3)"
   ]
  },
  {
   "cell_type": "markdown",
   "metadata": {},
   "source": [
    "#### Multiple Linear Regression"
   ]
  },
  {
   "cell_type": "code",
   "execution_count": 127,
   "metadata": {},
   "outputs": [
    {
     "name": "stdout",
     "output_type": "stream",
     "text": [
      "\n",
      "Mean Absolute Error: 3861.785267283907\n",
      "Mean Absolute % Error: 3.3997581365295426\n",
      "Mean Squared Error: 14913385.450611038\n",
      "Root Mean Squared Error: 3861.785267283907\n",
      "\n",
      "Mean Absolute Error: 3667.839912968222\n",
      "Mean Absolute % Error: 3.239626130975836\n",
      "Mean Squared Error: 13453049.627162734\n",
      "Root Mean Squared Error: 3667.839912968222\n",
      "\n",
      "Mean Absolute Error: 688.6839592519682\n",
      "Mean Absolute % Error: 0.5955773518389803\n",
      "Mean Squared Error: 474285.5957309666\n",
      "Root Mean Squared Error: 688.6839592519682\n"
     ]
    }
   ],
   "source": [
    "linearRegression(train_x_year_unemployment, train_y_year_unemployment, test_x_year_unemployment_2014, test_y_year_unemployment_2014)\n",
    "linearRegression(train_x_year_unemployment, train_y_year_unemployment, test_x_year_unemployment_2015, test_y_year_unemployment_2015)\n",
    "linearRegression(train_x_year_unemployment, train_y_year_unemployment, test_x_year_unemployment_2016, test_y_year_unemployment_2016)"
   ]
  },
  {
   "cell_type": "markdown",
   "metadata": {},
   "source": [
    "#### Decision Tree Regressor"
   ]
  },
  {
   "cell_type": "code",
   "execution_count": 128,
   "metadata": {},
   "outputs": [
    {
     "name": "stdout",
     "output_type": "stream",
     "text": [
      "\n",
      "Mean Absolute Error: 4493.0\n",
      "Mean Absolute % Error: 3.9554538251606655\n",
      "Mean Squared Error: 20187049.0\n",
      "Root Mean Squared Error: 4493.0\n",
      "\n",
      "Mean Absolute Error: 4865.0\n",
      "Mean Absolute % Error: 4.297019908495116\n",
      "Mean Squared Error: 23668225.0\n",
      "Root Mean Squared Error: 4865.0\n",
      "\n",
      "Mean Absolute Error: 2450.0\n",
      "Mean Absolute % Error: 2.1187723227798294\n",
      "Mean Squared Error: 6002500.0\n",
      "Root Mean Squared Error: 2450.0\n"
     ]
    }
   ],
   "source": [
    "decisionTreeRegressor(train_x_year_unemployment, train_y_year_unemployment, test_x_year_unemployment_2014, test_y_year_unemployment_2014)\n",
    "decisionTreeRegressor(train_x_year_unemployment, train_y_year_unemployment, test_x_year_unemployment_2015, test_y_year_unemployment_2015)\n",
    "decisionTreeRegressor(train_x_year_unemployment, train_y_year_unemployment, test_x_year_unemployment_2016, test_y_year_unemployment_2016)"
   ]
  },
  {
   "cell_type": "markdown",
   "metadata": {},
   "source": [
    "#### Random Forest Regressor"
   ]
  },
  {
   "cell_type": "code",
   "execution_count": 129,
   "metadata": {},
   "outputs": [
    {
     "name": "stdout",
     "output_type": "stream",
     "text": [
      "\n",
      "Mean Absolute Error: 4805.726666666669\n",
      "Mean Absolute % Error: 4.230765619039237\n",
      "Mean Squared Error: 23095008.794711135\n",
      "Root Mean Squared Error: 4805.726666666669\n",
      "\n",
      "Mean Absolute Error: 5177.726666666669\n",
      "Mean Absolute % Error: 4.573236293404467\n",
      "Mean Squared Error: 26808853.434711136\n",
      "Root Mean Squared Error: 5177.726666666669\n",
      "\n",
      "Mean Absolute Error: 2762.726666666669\n",
      "Mean Absolute % Error: 2.389219917036373\n",
      "Mean Squared Error: 7632658.634711125\n",
      "Root Mean Squared Error: 2762.726666666669\n"
     ]
    }
   ],
   "source": [
    "randomForestRegressor(train_x_year_unemployment, train_y_year_unemployment, test_x_year_unemployment_2014, test_y_year_unemployment_2014)\n",
    "randomForestRegressor(train_x_year_unemployment, train_y_year_unemployment, test_x_year_unemployment_2015, test_y_year_unemployment_2015)\n",
    "randomForestRegressor(train_x_year_unemployment, train_y_year_unemployment, test_x_year_unemployment_2016, test_y_year_unemployment_2016)"
   ]
  },
  {
   "cell_type": "markdown",
   "metadata": {},
   "source": [
    "#### Gradient Boosting Regressor"
   ]
  },
  {
   "cell_type": "code",
   "execution_count": 130,
   "metadata": {},
   "outputs": [
    {
     "name": "stdout",
     "output_type": "stream",
     "text": [
      "\n",
      "Mean Absolute Error: 4493.020452277153\n",
      "Mean Absolute % Error: 3.955471830510743\n",
      "Mean Squared Error: 20187232.78458079\n",
      "Root Mean Squared Error: 4493.020452277153\n",
      "\n",
      "Mean Absolute Error: 4865.020452277153\n",
      "Mean Absolute % Error: 4.297037973005311\n",
      "Mean Squared Error: 23668424.001074992\n",
      "Root Mean Squared Error: 4865.020452277153\n",
      "\n",
      "Mean Absolute Error: 2450.020452277153\n",
      "Mean Absolute % Error: 2.11879001001198\n",
      "Mean Squared Error: 6002600.216576344\n",
      "Root Mean Squared Error: 2450.020452277153\n"
     ]
    }
   ],
   "source": [
    "gradientBoostingRegressor(train_x_year_unemployment, train_y_year_unemployment, test_x_year_unemployment_2014, test_y_year_unemployment_2014)\n",
    "gradientBoostingRegressor(train_x_year_unemployment, train_y_year_unemployment, test_x_year_unemployment_2015, test_y_year_unemployment_2015)\n",
    "gradientBoostingRegressor(train_x_year_unemployment, train_y_year_unemployment, test_x_year_unemployment_2016, test_y_year_unemployment_2016)"
   ]
  },
  {
   "cell_type": "markdown",
   "metadata": {},
   "source": [
    "#### Multiple Layer Perceptron"
   ]
  },
  {
   "cell_type": "code",
   "execution_count": 131,
   "metadata": {},
   "outputs": [
    {
     "name": "stdout",
     "output_type": "stream",
     "text": [
      "\n",
      "Mean Absolute Error: 1065.0511022065766\n",
      "Mean Absolute % Error: 0.9376275219707514\n",
      "Mean Squared Error: 1134333.8503114437\n",
      "Root Mean Squared Error: 1065.0511022065766\n",
      "\n",
      "Mean Absolute Error: 637.2210660911514\n",
      "Mean Absolute % Error: 0.5628266407206906\n",
      "Mean Squared Error: 406050.6870703436\n",
      "Root Mean Squared Error: 637.2210660911514\n",
      "\n",
      "Mean Absolute Error: 2996.396769764935\n",
      "Mean Absolute % Error: 2.591298997487685\n",
      "Mean Squared Error: 8978393.601857737\n",
      "Root Mean Squared Error: 2996.396769764935\n"
     ]
    }
   ],
   "source": [
    "mlp_regressor(train_x_year_unemployment, train_y_year_unemployment, test_x_year_unemployment_2014, test_y_year_unemployment_2014, (100,100,100,100,100,100,100), 'relu')\n",
    "mlp_regressor(train_x_year_unemployment, train_y_year_unemployment, test_x_year_unemployment_2015, test_y_year_unemployment_2015, (100,100,100,100,100,100,100), 'relu')\n",
    "mlp_regressor(train_x_year_unemployment, train_y_year_unemployment, test_x_year_unemployment_2016, test_y_year_unemployment_2016, (100,100,100,100,100,100,100), 'relu')"
   ]
  },
  {
   "cell_type": "markdown",
   "metadata": {},
   "source": [
    "#### SGD Regressor"
   ]
  },
  {
   "cell_type": "code",
   "execution_count": 132,
   "metadata": {},
   "outputs": [
    {
     "name": "stdout",
     "output_type": "stream",
     "text": [
      "\n",
      "Mean Absolute Error: 3861.237758859861\n",
      "Mean Absolute % Error: 3.399276132458721\n",
      "Mean Squared Error: 14909157.030445123\n",
      "Root Mean Squared Error: 3861.237758859861\n",
      "\n",
      "Mean Absolute Error: 3667.455056017381\n",
      "Mean Absolute % Error: 3.239286205389056\n",
      "Mean Squared Error: 13450226.587907452\n",
      "Root Mean Squared Error: 3667.455056017381\n",
      "\n",
      "Mean Absolute Error: 692.2313344745198\n",
      "Mean Absolute % Error: 0.5986451397736976\n",
      "Mean Squared Error: 479184.22042837454\n",
      "Root Mean Squared Error: 692.2313344745198\n"
     ]
    },
    {
     "name": "stderr",
     "output_type": "stream",
     "text": [
      "/opt/anaconda3/envs/thesis/lib/python3.8/site-packages/sklearn/linear_model/_stochastic_gradient.py:1208: ConvergenceWarning: Maximum number of iteration reached before convergence. Consider increasing max_iter to improve the fit.\n",
      "  warnings.warn(\"Maximum number of iteration reached before \"\n",
      "/opt/anaconda3/envs/thesis/lib/python3.8/site-packages/sklearn/linear_model/_stochastic_gradient.py:1208: ConvergenceWarning: Maximum number of iteration reached before convergence. Consider increasing max_iter to improve the fit.\n",
      "  warnings.warn(\"Maximum number of iteration reached before \"\n",
      "/opt/anaconda3/envs/thesis/lib/python3.8/site-packages/sklearn/linear_model/_stochastic_gradient.py:1208: ConvergenceWarning: Maximum number of iteration reached before convergence. Consider increasing max_iter to improve the fit.\n",
      "  warnings.warn(\"Maximum number of iteration reached before \"\n"
     ]
    }
   ],
   "source": [
    "sgd_regressor(train_x_year_unemployment, train_y_year_unemployment, test_x_year_unemployment_2014, test_y_year_unemployment_2014)\n",
    "sgd_regressor(train_x_year_unemployment, train_y_year_unemployment, test_x_year_unemployment_2015, test_y_year_unemployment_2015)\n",
    "sgd_regressor(train_x_year_unemployment, train_y_year_unemployment, test_x_year_unemployment_2016, test_y_year_unemployment_2016)"
   ]
  },
  {
   "cell_type": "markdown",
   "metadata": {},
   "source": [
    "### Population + Unemployment Rate"
   ]
  },
  {
   "cell_type": "code",
   "execution_count": 133,
   "metadata": {},
   "outputs": [
    {
     "name": "stderr",
     "output_type": "stream",
     "text": [
      "/var/folders/_m/g1hjkw4d3xx82r_yx60lb8kh0000gn/T/ipykernel_58110/704471122.py:1: FutureWarning: Indexing with multiple keys (implicitly converted to a tuple of keys) will be deprecated, use a list instead.\n",
      "  crime_df_prediction_population_unemployment = crime_df_prediction.groupby(['Year'],as_index=False)['Population', 'Unemployment Rate', 'Crimes'].max()\n"
     ]
    },
    {
     "data": {
      "text/html": [
       "<div>\n",
       "<style scoped>\n",
       "    .dataframe tbody tr th:only-of-type {\n",
       "        vertical-align: middle;\n",
       "    }\n",
       "\n",
       "    .dataframe tbody tr th {\n",
       "        vertical-align: top;\n",
       "    }\n",
       "\n",
       "    .dataframe thead th {\n",
       "        text-align: right;\n",
       "    }\n",
       "</style>\n",
       "<table border=\"1\" class=\"dataframe\">\n",
       "  <thead>\n",
       "    <tr style=\"text-align: right;\">\n",
       "      <th></th>\n",
       "      <th>Year</th>\n",
       "      <th>Population</th>\n",
       "      <th>Unemployment Rate</th>\n",
       "      <th>Crimes</th>\n",
       "    </tr>\n",
       "  </thead>\n",
       "  <tbody>\n",
       "    <tr>\n",
       "      <th>0</th>\n",
       "      <td>2010</td>\n",
       "      <td>1586698</td>\n",
       "      <td>0.09173</td>\n",
       "      <td>121364</td>\n",
       "    </tr>\n",
       "    <tr>\n",
       "      <th>1</th>\n",
       "      <td>2011</td>\n",
       "      <td>1601948</td>\n",
       "      <td>0.08969</td>\n",
       "      <td>115889</td>\n",
       "    </tr>\n",
       "    <tr>\n",
       "      <th>2</th>\n",
       "      <td>2012</td>\n",
       "      <td>1619090</td>\n",
       "      <td>0.08816</td>\n",
       "      <td>120076</td>\n",
       "    </tr>\n",
       "    <tr>\n",
       "      <th>3</th>\n",
       "      <td>2013</td>\n",
       "      <td>1626159</td>\n",
       "      <td>0.07493</td>\n",
       "      <td>118083</td>\n",
       "    </tr>\n",
       "    <tr>\n",
       "      <th>4</th>\n",
       "      <td>2014</td>\n",
       "      <td>1636268</td>\n",
       "      <td>0.06600</td>\n",
       "      <td>113590</td>\n",
       "    </tr>\n",
       "    <tr>\n",
       "      <th>5</th>\n",
       "      <td>2015</td>\n",
       "      <td>1644518</td>\n",
       "      <td>0.06100</td>\n",
       "      <td>113218</td>\n",
       "    </tr>\n",
       "    <tr>\n",
       "      <th>6</th>\n",
       "      <td>2016</td>\n",
       "      <td>1643734</td>\n",
       "      <td>0.05500</td>\n",
       "      <td>115633</td>\n",
       "    </tr>\n",
       "  </tbody>\n",
       "</table>\n",
       "</div>"
      ],
      "text/plain": [
       "   Year  Population  Unemployment Rate  Crimes\n",
       "0  2010     1586698            0.09173  121364\n",
       "1  2011     1601948            0.08969  115889\n",
       "2  2012     1619090            0.08816  120076\n",
       "3  2013     1626159            0.07493  118083\n",
       "4  2014     1636268            0.06600  113590\n",
       "5  2015     1644518            0.06100  113218\n",
       "6  2016     1643734            0.05500  115633"
      ]
     },
     "execution_count": 133,
     "metadata": {},
     "output_type": "execute_result"
    }
   ],
   "source": [
    "crime_df_prediction_population_unemployment = crime_df_prediction.groupby(['Year'],as_index=False)['Population', 'Unemployment Rate', 'Crimes'].max()\n",
    "\n",
    "crime_df_prediction_population_unemployment"
   ]
  },
  {
   "cell_type": "code",
   "execution_count": 134,
   "metadata": {},
   "outputs": [],
   "source": [
    "#Splitting the dataset\n",
    "\n",
    "train_year_population_unemployment = crime_df_prediction_population_unemployment[crime_df_prediction_population_unemployment['Year'] <= 2013].to_numpy()\n",
    "test_year_population_unemployment = crime_df_prediction_population_unemployment[crime_df_prediction_population_unemployment['Year'] >= 2014].to_numpy()\n",
    "\n",
    "column_size = train_year_population_unemployment.shape[1]\n",
    "\n",
    "train_x_year_population_unemployment = train_year_population_unemployment[:,[0,1,2]]\n",
    "train_y_year_population_unemployment = train_year_population_unemployment[:,column_size-1]\n",
    "test_x_year_population_unemployment = test_year_population_unemployment[:,[0,1,2]]\n",
    "test_y_year_population_unemployment = test_year_population_unemployment[:,column_size-1]"
   ]
  },
  {
   "cell_type": "code",
   "execution_count": 135,
   "metadata": {},
   "outputs": [],
   "source": [
    "test_x_year_population_unemployment_2014, test_y_year_population_unemployment_2014 = splitTestSet(test_x_year_population_unemployment, test_y_year_population_unemployment, 0, 1)\n",
    "test_x_year_population_unemployment_2015, test_y_year_population_unemployment_2015 = splitTestSet(test_x_year_population_unemployment, test_y_year_population_unemployment, 1, 2)\n",
    "test_x_year_population_unemployment_2016, test_y_year_population_unemployment_2016 = splitTestSet(test_x_year_population_unemployment, test_y_year_population_unemployment, 2, 3)"
   ]
  },
  {
   "cell_type": "markdown",
   "metadata": {},
   "source": [
    "#### Multiple Linear Regression"
   ]
  },
  {
   "cell_type": "code",
   "execution_count": 136,
   "metadata": {},
   "outputs": [
    {
     "name": "stdout",
     "output_type": "stream",
     "text": [
      "\n",
      "Mean Absolute Error: 491.4107688963413\n",
      "Mean Absolute % Error: 0.43261798476656516\n",
      "Mean Squared Error: 241484.54378729337\n",
      "Root Mean Squared Error: 491.4107688963413\n",
      "\n",
      "Mean Absolute Error: 34953.20077097416\n",
      "Mean Absolute % Error: 30.872476789003656\n",
      "Mean Squared Error: 1221726244.1360285\n",
      "Root Mean Squared Error: 34953.20077097416\n",
      "\n",
      "Mean Absolute Error: 126548.94811275601\n",
      "Mean Absolute % Error: 109.4401668319217\n",
      "Mean Squared Error: 16014636268.445013\n",
      "Root Mean Squared Error: 126548.94811275601\n"
     ]
    }
   ],
   "source": [
    "linearRegression(train_x_year_population_unemployment, train_y_year_population_unemployment, test_x_year_population_unemployment_2014, test_y_year_population_unemployment_2014)\n",
    "linearRegression(train_x_year_population_unemployment, train_y_year_population_unemployment, test_x_year_population_unemployment_2015, test_y_year_population_unemployment_2015)\n",
    "linearRegression(train_x_year_population_unemployment, train_y_year_population_unemployment, test_x_year_population_unemployment_2016, test_y_year_population_unemployment_2016)"
   ]
  },
  {
   "cell_type": "markdown",
   "metadata": {},
   "source": [
    "#### Decision Tree Regressor"
   ]
  },
  {
   "cell_type": "code",
   "execution_count": 137,
   "metadata": {},
   "outputs": [
    {
     "name": "stdout",
     "output_type": "stream",
     "text": [
      "\n",
      "Mean Absolute Error: 4493.0\n",
      "Mean Absolute % Error: 3.9554538251606655\n",
      "Mean Squared Error: 20187049.0\n",
      "Root Mean Squared Error: 4493.0\n",
      "\n",
      "Mean Absolute Error: 4865.0\n",
      "Mean Absolute % Error: 4.297019908495116\n",
      "Mean Squared Error: 23668225.0\n",
      "Root Mean Squared Error: 4865.0\n",
      "\n",
      "Mean Absolute Error: 2450.0\n",
      "Mean Absolute % Error: 2.1187723227798294\n",
      "Mean Squared Error: 6002500.0\n",
      "Root Mean Squared Error: 2450.0\n"
     ]
    }
   ],
   "source": [
    "decisionTreeRegressor(train_x_year_population_unemployment, train_y_year_population_unemployment, test_x_year_population_unemployment_2014, test_y_year_population_unemployment_2014)\n",
    "decisionTreeRegressor(train_x_year_population_unemployment, train_y_year_population_unemployment, test_x_year_population_unemployment_2015, test_y_year_population_unemployment_2015)\n",
    "decisionTreeRegressor(train_x_year_population_unemployment, train_y_year_population_unemployment, test_x_year_population_unemployment_2016, test_y_year_population_unemployment_2016)"
   ]
  },
  {
   "cell_type": "markdown",
   "metadata": {},
   "source": [
    "#### Random Forest Regressor"
   ]
  },
  {
   "cell_type": "code",
   "execution_count": 142,
   "metadata": {},
   "outputs": [
    {
     "name": "stdout",
     "output_type": "stream",
     "text": [
      "\n",
      "Mean Absolute Error: 4805.726666666669\n",
      "Mean Absolute % Error: 4.230765619039237\n",
      "Mean Squared Error: 23095008.794711135\n",
      "Root Mean Squared Error: 4805.726666666669\n",
      "\n",
      "Mean Absolute Error: 5177.726666666669\n",
      "Mean Absolute % Error: 4.573236293404467\n",
      "Mean Squared Error: 26808853.434711136\n",
      "Root Mean Squared Error: 5177.726666666669\n",
      "\n",
      "Mean Absolute Error: 2762.726666666669\n",
      "Mean Absolute % Error: 2.389219917036373\n",
      "Mean Squared Error: 7632658.634711125\n",
      "Root Mean Squared Error: 2762.726666666669\n"
     ]
    }
   ],
   "source": [
    "randomForestRegressor(train_x_year_population_unemployment, train_y_year_population_unemployment, test_x_year_population_unemployment_2014, test_y_year_population_unemployment_2014)\n",
    "randomForestRegressor(train_x_year_population_unemployment, train_y_year_population_unemployment, test_x_year_population_unemployment_2015, test_y_year_population_unemployment_2015)\n",
    "randomForestRegressor(train_x_year_population_unemployment, train_y_year_population_unemployment, test_x_year_population_unemployment_2016, test_y_year_population_unemployment_2016)"
   ]
  },
  {
   "cell_type": "markdown",
   "metadata": {},
   "source": [
    "#### Gradient Boosting Regressor"
   ]
  },
  {
   "cell_type": "code",
   "execution_count": 139,
   "metadata": {},
   "outputs": [
    {
     "name": "stdout",
     "output_type": "stream",
     "text": [
      "\n",
      "Mean Absolute Error: 4493.020452277153\n",
      "Mean Absolute % Error: 3.955471830510743\n",
      "Mean Squared Error: 20187232.78458079\n",
      "Root Mean Squared Error: 4493.020452277153\n",
      "\n",
      "Mean Absolute Error: 4865.020452277153\n",
      "Mean Absolute % Error: 4.297037973005311\n",
      "Mean Squared Error: 23668424.001074992\n",
      "Root Mean Squared Error: 4865.020452277153\n",
      "\n",
      "Mean Absolute Error: 2450.020452277153\n",
      "Mean Absolute % Error: 2.11879001001198\n",
      "Mean Squared Error: 6002600.216576344\n",
      "Root Mean Squared Error: 2450.020452277153\n"
     ]
    }
   ],
   "source": [
    "gradientBoostingRegressor(train_x_year_population_unemployment, train_y_year_population_unemployment, test_x_year_population_unemployment_2014, test_y_year_population_unemployment_2014)\n",
    "gradientBoostingRegressor(train_x_year_population_unemployment, train_y_year_population_unemployment, test_x_year_population_unemployment_2015, test_y_year_population_unemployment_2015)\n",
    "gradientBoostingRegressor(train_x_year_population_unemployment, train_y_year_population_unemployment, test_x_year_population_unemployment_2016, test_y_year_population_unemployment_2016)"
   ]
  },
  {
   "cell_type": "markdown",
   "metadata": {},
   "source": [
    "#### Multi Layer Perceptron"
   ]
  },
  {
   "cell_type": "code",
   "execution_count": 140,
   "metadata": {},
   "outputs": [
    {
     "name": "stdout",
     "output_type": "stream",
     "text": [
      "\n",
      "Mean Absolute Error: 190.03344701467722\n",
      "Mean Absolute % Error: 0.16729769083077492\n",
      "Mean Squared Error: 36112.71098428014\n",
      "Root Mean Squared Error: 190.03344701467722\n",
      "\n",
      "Mean Absolute Error: 754.0876600018091\n",
      "Mean Absolute % Error: 0.6660492677858726\n",
      "Mean Squared Error: 568648.1989670041\n",
      "Root Mean Squared Error: 754.0876600018091\n",
      "\n",
      "Mean Absolute Error: 1715.3246935312782\n",
      "Mean Absolute % Error: 1.483421422544843\n",
      "Mean Squared Error: 2942338.804238173\n",
      "Root Mean Squared Error: 1715.3246935312782\n"
     ]
    }
   ],
   "source": [
    "mlp_regressor(train_x_year_population_unemployment, train_y_year_population_unemployment, test_x_year_population_unemployment_2014, test_y_year_population_unemployment_2014, (100,100,100,100,100,100,100,100,100,100,100,100), 'relu')\n",
    "mlp_regressor(train_x_year_population_unemployment, train_y_year_population_unemployment, test_x_year_population_unemployment_2015, test_y_year_population_unemployment_2015, (100,100,100,100,100,100,100,100,100,100,100,100), 'relu')\n",
    "mlp_regressor(train_x_year_population_unemployment, train_y_year_population_unemployment, test_x_year_population_unemployment_2016, test_y_year_population_unemployment_2016, (100,100,100,100,100,100,100,100,100,100,100,100), 'relu')"
   ]
  },
  {
   "cell_type": "markdown",
   "metadata": {},
   "source": [
    "#### SGD Regressor"
   ]
  },
  {
   "cell_type": "code",
   "execution_count": 141,
   "metadata": {},
   "outputs": [
    {
     "name": "stdout",
     "output_type": "stream",
     "text": [
      "\n",
      "Mean Absolute Error: 3777.081046046369\n",
      "Mean Absolute % Error: 3.325187997223672\n",
      "Mean Squared Error: 14266341.228402734\n",
      "Root Mean Squared Error: 3777.081046046369\n",
      "\n",
      "Mean Absolute Error: 3370.0261733639345\n",
      "Mean Absolute % Error: 2.9765816154356504\n",
      "Mean Squared Error: 11357076.409157963\n",
      "Root Mean Squared Error: 3370.0261733639345\n",
      "\n",
      "Mean Absolute Error: 188.95641316000547\n",
      "Mean Absolute % Error: 0.1634104564959877\n",
      "Mean Squared Error: 35704.526074294685\n",
      "Root Mean Squared Error: 188.95641316000547\n"
     ]
    },
    {
     "name": "stderr",
     "output_type": "stream",
     "text": [
      "/opt/anaconda3/envs/thesis/lib/python3.8/site-packages/sklearn/linear_model/_stochastic_gradient.py:1208: ConvergenceWarning: Maximum number of iteration reached before convergence. Consider increasing max_iter to improve the fit.\n",
      "  warnings.warn(\"Maximum number of iteration reached before \"\n",
      "/opt/anaconda3/envs/thesis/lib/python3.8/site-packages/sklearn/linear_model/_stochastic_gradient.py:1208: ConvergenceWarning: Maximum number of iteration reached before convergence. Consider increasing max_iter to improve the fit.\n",
      "  warnings.warn(\"Maximum number of iteration reached before \"\n",
      "/opt/anaconda3/envs/thesis/lib/python3.8/site-packages/sklearn/linear_model/_stochastic_gradient.py:1208: ConvergenceWarning: Maximum number of iteration reached before convergence. Consider increasing max_iter to improve the fit.\n",
      "  warnings.warn(\"Maximum number of iteration reached before \"\n"
     ]
    }
   ],
   "source": [
    "sgd_regressor(train_x_year_population_unemployment, train_y_year_population_unemployment, test_x_year_population_unemployment_2014, test_y_year_population_unemployment_2014)\n",
    "sgd_regressor(train_x_year_population_unemployment, train_y_year_population_unemployment, test_x_year_population_unemployment_2015, test_y_year_population_unemployment_2015)\n",
    "sgd_regressor(train_x_year_population_unemployment, train_y_year_population_unemployment, test_x_year_population_unemployment_2016, test_y_year_population_unemployment_2016)"
   ]
  },
  {
   "cell_type": "code",
   "execution_count": null,
   "metadata": {},
   "outputs": [],
   "source": []
  }
 ],
 "metadata": {
  "interpreter": {
   "hash": "474cabef28ef5f39850ae0283db27a2b2b64f747313c5bcb210a7b2692fe8216"
  },
  "kernelspec": {
   "display_name": "Python 3.8.12 ('thesis')",
   "language": "python",
   "name": "python3"
  },
  "language_info": {
   "codemirror_mode": {
    "name": "ipython",
    "version": 3
   },
   "file_extension": ".py",
   "mimetype": "text/x-python",
   "name": "python",
   "nbconvert_exporter": "python",
   "pygments_lexer": "ipython3",
   "version": "3.8.12"
  }
 },
 "nbformat": 4,
 "nbformat_minor": 4
}
